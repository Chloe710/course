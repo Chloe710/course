{
 "cells": [
  {
   "attachments": {},
   "cell_type": "markdown",
   "metadata": {},
   "source": [
    "# 多元线性回归"
   ]
  },
  {
   "attachments": {},
   "cell_type": "markdown",
   "metadata": {},
   "source": [
    "## 1.1 模型说明"
   ]
  },
  {
   "attachments": {},
   "cell_type": "markdown",
   "metadata": {},
   "source": [
    "线性回归中，如果存在多个自变量时，我们称该线性回归为多元线性回归。\n",
    "\n",
    "上节课中，我们学习了简单线性回归，并且使用房屋面积（ ）来拟合房屋价格（ ）。\n",
    "\n",
    "然而，现实中的数据通常是比较复杂的，自变量也可能不只一个。\n",
    "例如，影响房屋价格不只房屋面积一个因素，可能还有距地铁距离，距市中心距离，\n",
    "\n",
    "房间数量，房屋所在层数，房屋建筑年代等诸多因素。\n",
    "不过，这些因素，对房屋价格影响的力度（权重）是不同的，\n",
    "\n",
    "例如，房屋所在层数对房屋价格的影响就远不及房屋面积，\n",
    "\n",
    "因此，我们可以为每个特征指定一个不同的权重。"
   ]
  },
  {
   "attachments": {},
   "cell_type": "markdown",
   "metadata": {},
   "source": [
    "ŷ=w₀+w₁*x₁+w₂*x₂+w₃*x₃+...+wn*xn\n",
    "xⅰ:第i个输入特征\n",
    "wⅰ:第i个特征的权重（影响力度）\n",
    "n: 特征的个数\n",
    "ŷ：预测值\n",
    "\n",
    "\n",
    "→₁₁ⁿ₂₃₀⊺"
   ]
  },
  {
   "attachments": {},
   "cell_type": "markdown",
   "metadata": {},
   "source": [
    "特殊数学符号\n",
    "∧≷⁰³⁺⁻⁼ⁱⁿ⁷⁸ⅼⅬⅩⅦⅣⅠⅡⅢⅰⅳⅶⅹⅺⅷⅸⅻ∂ↀ∈∋Ↄↄⅻ∂∅∁⋾√∑∔∗√∝∞∛∘∕−∏∐∓∖∙∜∟∯∬∩∦∣∠∡∤∧∪∭∰∱∮∫∨∥∢∲∵∸∻∾≁∳∹∶∴∷∺∹∼∽≀∿≂≃≄≇≅≈≋≊≍≎≑≐≓≔≯≤≡≠≞≑≦≧⊨⊤⊥⊢"
   ]
  },
  {
   "attachments": {},
   "cell_type": "markdown",
   "metadata": {},
   "source": [
    "1.2向量表示\n",
    "numpy 是用向量的方式表示"
   ]
  },
  {
   "cell_type": "markdown",
   "metadata": {},
   "source": []
  },
  {
   "attachments": {},
   "cell_type": "markdown",
   "metadata": {},
   "source": [
    "向量一般默认为列，所有书写成行，然后转置\n",
    "w->= (w₁,w₂,w₃,...,wn)⊤ \n",
    "\n",
    "\n",
    "向量乘积运算：每个分量对位相乘，然后把结果加在一起，对位相乘再相加\n",
    "ŷ=w w₁,w₂,w₃,...,wn)\n",
    " =∑ⁿj=∘(wj*xj)\n",
    "\n",
    "向量中单独值是分量\n"
   ]
  }
 ],
 "metadata": {
  "language_info": {
   "name": "python"
  },
  "orig_nbformat": 4
 },
 "nbformat": 4,
 "nbformat_minor": 2
}
