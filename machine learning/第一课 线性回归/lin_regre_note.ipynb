{
 "cells": [
  {
   "cell_type": "code",
   "execution_count": 1,
   "metadata": {},
   "outputs": [
    {
     "name": "stdout",
     "output_type": "stream",
     "text": [
      "[5.] -3.9999999999999716\n",
      "[5.]\n",
      "-3.9999999999999716\n"
     ]
    }
   ],
   "source": [
    "import numpy as np\n",
    "import pandas as pd\n",
    "from sklearn.linear_model import LinearRegression\n",
    "# 拟合fit方法，要求x的数据必须是二维数据集2\n",
    "#下面的x是一维数组，如果想要变成二维，可以用reshape（）\n",
    "#将x转换为二维数据，以便在sklearn中使用\n",
    "x=np.arange(0,100,0.1)\n",
    "y=5*x-4\n",
    "x=x.reshape(len(x),1 )\n",
    "\n",
    "\n",
    "#机器学习库，提供机器学习算法\n",
    "# 创建一个名为lr的线性回归对象。\n",
    "lr=LinearRegression()\n",
    "#拟合,根据现有的数据集，建立模型，找出x与y之间的关系（方程式or函数） \n",
    "#注意，拟合fit方法，要求x的数据必须是二维数据集\n",
    "lr.fit(x,y)\n",
    "print(lr.coef_,lr.intercept_)\n",
    "#ŷ=w₀+w₁*x 中，w₁被称为权重，w₀被称为偏置或截距\n",
    "# coef:权重，可理解为系数\n",
    "# intercepte:截距\n",
    "print(lr.coef_)\n",
    "# 上面这一步在输出权重w₁，当有多个x时，就有多个权重\n",
    "print(lr.intercept_)\n",
    "# 上面这一步在输出截距w₀，不能\n"
   ]
  },
  {
   "attachments": {},
   "cell_type": "markdown",
   "metadata": {},
   "source": [
    "改变数据，让数据不那么完美，即x与y 之间不是严格的函数映射关系\n",
    "\n",
    "此时可以引入np.random.normal()函数 也就是引入随机的一组正态分布的数据\n",
    "\n",
    "normal(loc=0.0,scale=1.0,size=None) loc：均值，scale：标准差"
   ]
  },
  {
   "cell_type": "code",
   "execution_count": 9,
   "metadata": {},
   "outputs": [
    {
     "name": "stdout",
     "output_type": "stream",
     "text": [
      "[5.00132843]\n",
      "-4.052197155363984\n"
     ]
    }
   ],
   "source": [
    "\n",
    "noise=np.random.normal(0,1.2,len(x))\n",
    "x=np.arange(0,100,0.1)\n",
    "y=5*x-4+noise\n",
    "x=x.reshape(len(x),1)\n",
    "lr=LinearRegression()\n",
    "lr.fit(x,y)\n",
    "print(lr.coef_)# 这里输出的coef_ 是一个数组\n",
    "print(lr.intercept_)"
   ]
  },
  {
   "attachments": {},
   "cell_type": "markdown",
   "metadata": {},
   "source": [
    "以上这段代码中，lr.coef_输出的是线性回归模型的系数，是一个数组形式的结果。其原因是，当输入特征为多个时，即存在多个自变量时，线性回归模型的系数也会有多个，因此需要以数组的形式输出。\n",
    "\n",
    "在这里，x是一个包含1000个元素的一维数组，经过reshape方法重塑为一个1000行1列的二维数组，表示1000个样本和1个自变量。因此，线性回归模型需要拟合一个包含1个自变量的模型，因此模型的系数也只有1个。但是，为了保持一致性，LinearRegression对象的coef_属性始终返回一个数组，其中包含拟合模型的所有系数，即使只有一个自变量。\n",
    "\n",
    "在这里，由于只有一个自变量，因此数组中只包含一个元素，即模型的系数。因此，可以通过lr.coef_[0]或lr.coef_.item()来提取这个系数。同理，lr.intercept_输出的是模型的截距，也是一个数组形式的结果，即使只有一个截距。在这种情况下，可以通过lr.intercept_[0]或lr.intercept_.item()来提取截距的值。"
   ]
  },
  {
   "attachments": {},
   "cell_type": "markdown",
   "metadata": {},
   "source": [
    "当拟合之后，回归方程就确定了，就可以对未知的x实现预测任务"
   ]
  },
  {
   "cell_type": "code",
   "execution_count": 10,
   "metadata": {},
   "outputs": [
    {
     "name": "stdout",
     "output_type": "stream",
     "text": [
      "501.08197395525724\n"
     ]
    }
   ],
   "source": [
    "# 自己预测\n",
    "unknown_x=101\n",
    "w0 = lr.intercept_\n",
    "w1 = lr.coef_[0]  # coef_ 是一个数组，所以拿出数组中第一个数据\n",
    "y_hat = w0 + w1 *unknown_x #这一步就相当于lr.predict的功能\n",
    "print(y_hat)"
   ]
  },
  {
   "attachments": {},
   "cell_type": "markdown",
   "metadata": {},
   "source": [
    "使用模型预测\n",
    "根据给定的x数据,返回预测结果。要求:x必须是二维数据\n"
   ]
  },
  {
   "cell_type": "code",
   "execution_count": 13,
   "metadata": {},
   "outputs": [
    {
     "name": "stdout",
     "output_type": "stream",
     "text": [
      "501.08197395525724\n"
     ]
    }
   ],
   "source": [
    "#用模型预测\n",
    "#根据给定的x 数据，返回预测结果。\n",
    "# unknown—_x必须是二维数组，\n",
    "# 所以要把已给出的unknown——x变成二维数据，\n",
    "# 就在他外面加两个中括号\n",
    "y_hat = lr.predict([[unknown_x]])\n",
    "print(y_hat[0])"
   ]
  },
  {
   "cell_type": "code",
   "execution_count": 15,
   "metadata": {},
   "outputs": [
    {
     "data": {
      "text/plain": [
       "[<matplotlib.lines.Line2D at 0x20ac0e90ca0>]"
      ]
     },
     "execution_count": 15,
     "metadata": {},
     "output_type": "execute_result"
    },
    {
     "data": {
      "image/png": "[encoded data removed]",
      "text/plain": [
       "<Figure size 640x480 with 1 Axes>"
      ]
     },
     "metadata": {},
     "output_type": "display_data"
    }
   ],
   "source": [
    "import matplotlib.pyplot as plt\n",
    "#plt.rcParams['font.family']='SimHei': \n",
    "# 设置Matplotlib绘图库中的字体族为\"SimHei\"，即中文黑体字体，\n",
    "# 以便在绘制中文字符时使用。\n",
    "plt.rcParams['font.family']='SimHei'\n",
    "#plt.rcParams['axes.unicode_minus']=False: \n",
    "# 设置Matplotlib绘图库中的坐标轴负号显示为负号（即\"-\"符号），\n",
    "# 而不是Unicode中的减号（即\"–\"符号），以便在绘制负数数值时使用。\n",
    "plt.rcParams['axes.unicode_minus']=False\n",
    "#在指定区间之内，生成等差数列\n",
    "x=np.linspace(0,10,100) \n",
    "#标准差越大，数据越分散，后面加的随机数是噪声\n",
    "y=4*x-3+np.random.normal(0,3.5,len(x))\n",
    "plt.scatter(x,y)\n",
    "lr=LinearRegression()\n",
    "#使用线性回归对象lr对数据进行拟合，\n",
    "# 其中np.reshape(x,len(x),1)将一维数组x重塑为列向量，\n",
    "# 以便与y进行拟合。\n",
    "## 以下这一句，在reshape参数里容易写错，要注意\n",
    "#np.reshape(x,(len(x),1))：是一个Numpy数组的方法，\n",
    "# 用于将数组x重塑为一个形状为(len(x),1)的列向量，\n",
    "# 以便与目标变量y进行拟合。\n",
    "lr.fit(np.reshape(x,(len(x),1)),y)\n",
    "# 从线性回归模型中提取截距和系数，以便进行预测。\n",
    "w0=lr.intercept_\n",
    "w1=lr.coef_[0]\n",
    "#根据拟合的线性回归模型，\n",
    "# 生成一个包含100个元素的一维数组y_hat，\n",
    "# 中每个元素都是根据x和拟合参数w0和w1计算得到的预测值。\n",
    "# 这两种计算方式等价，只是使用了不同的函数。\n",
    "y_hat=w1*x+w0\n",
    "y_hat=lr.predict(np.reshape(x,(len(x),1)))\n",
    "#绘制一个曲线，其中x轴坐标为x，y轴坐标为y_hat，\n",
    "# 曲线颜色为红色，用于可视化线性回归模型拟合的结果。\n",
    "plt.plot(x,y_hat,c='r')"
   ]
  },
  {
   "attachments": {},
   "cell_type": "markdown",
   "metadata": {},
   "source": [
    "过程解析\n"
   ]
  },
  {
   "attachments": {},
   "cell_type": "markdown",
   "metadata": {},
   "source": [
    "练习\n",
    "1.把真实值和预测值用matplotlib输出一下"
   ]
  },
  {
   "cell_type": "code",
   "execution_count": null,
   "metadata": {},
   "outputs": [],
   "source": [
    "import numpy as np\n",
    "import pandas  as pd\n",
    "from sklearn.linear_model import LinearRegression\n",
    "import matplotlib.pyplot as plt\n",
    "\n",
    "x=np.arange(0,100,0.1)\n",
    "noise=np.random.normal(0,2,len(x))\n",
    "y=12+6.7*x+noise\n",
    "x=x.reshape(len(x),1)\n",
    "\n",
    "lr=LinearRegression()\n",
    "lr.fit(x,y)\n",
    "print(lr.coef_)\n",
    "print(lr.intercept_)\n",
    "plt.rcParams['font.family']='SimHei'\n",
    "plt.rcParams['axes.unicode_minus']=False\n",
    "\n",
    "print(plt.plot(x,y))"
   ]
  },
  {
   "cell_type": "code",
   "execution_count": null,
   "metadata": {},
   "outputs": [],
   "source": [
    "plt.scatter(x,y)"
   ]
  },
  {
   "cell_type": "code",
   "execution_count": null,
   "metadata": {},
   "outputs": [],
   "source": [
    "unknown_x=101\n",
    "w0,w1=lr.intercept_,lr.coef_\n",
    "y_hat=w0+w1*unknown_x\n",
    "print(y_hat)\n",
    "y_hat=lr.predict([[unknown_x]])\n",
    "print(y_hat[0])\n",
    "\n",
    "plt.scatter([[unknown_x]],y_hat)"
   ]
  },
  {
   "cell_type": "code",
   "execution_count": null,
   "metadata": {},
   "outputs": [],
   "source": [
    "#老师讲解版本\n",
    "import matplotlib.pyplot as plt\n",
    "plt.rcParams['font.family']='SimHei'\n",
    "plt.rcParams['axes.unicode_minus']=False\n",
    "# x=np.arange(0,10,100)\n",
    "#在指定区间之内，生成等差数列\n",
    "x=np.linspace(0,10,100) # 这时的x 还是一维的\n",
    "noise=np.random.normal(0,2.3,len(x))\n",
    "y=5*x-7.7+noise\n",
    "plt.scatter(x,y)\n",
    "\n",
    "#画拟合线\n",
    "lr=LinearRegression()\n",
    "x_=np.reshape(x,(len(x),1))\n",
    "lr.fit(x_,y)\n",
    "#得到y_hat结果，方法一\n",
    "w0=lr.intercept_\n",
    "w1=lr.coef_[0]\n",
    "y_hat=w0+w1*x\n",
    "#得到y_hat结果，方法二\n",
    "# y_hat=lr.predict(x_)\n",
    "plt.plot(x,y_hat)  # 这时的线还都是蓝色的，和点的颜色一样\n",
    "plt.plot(x,y_hat,c='r')  # 把线的颜色改成红色v"
   ]
  },
  {
   "attachments": {},
   "cell_type": "markdown",
   "metadata": {},
   "source": [
    "## 切分数据集"
   ]
  },
  {
   "attachments": {},
   "cell_type": "markdown",
   "metadata": {},
   "source": [
    "我们的目的，不应该只是让模型在现有的数据中表现优秀，更重要的是，模型也应该能够适用于未知的\n",
    "数据，即模型在未知数据中，同样能够具有不错的预测能力，我们将这种行为称为模型的泛化能力。\n",
    "为了能够验证模型的泛化能力，我们需要将现有的数据集分成两个部分：\n",
    "\n",
    "训练集：用于训练模型，求解出最佳参数值（参数估计），要将大部分的样本分给训练集。\n",
    "\n",
    "测试集：用于验证模型的泛化能力。"
   ]
  },
  {
   "cell_type": "code",
   "execution_count": 17,
   "metadata": {},
   "outputs": [],
   "source": [
    "from sklearn.model_selection import train_test_split\n",
    "# 这段代码中生成等差数列x是为了构造一个具有一定规律的数据集，\n",
    "# 以便演示线性回归模型的拟合和预测过程。\n",
    "x=np.linspace(0,10,10)\n",
    "# 生成一个包含10个元素的一维数组y，\n",
    "# 其中每个元素都是4倍的x减去3再加上一个服从正态分布的噪声，\n",
    "# 以模拟真实数据。\n",
    "y=4*x-3+np.random.normal(0,3.5,len(x))\n",
    "#将数据集x和y分别划分为训练集和测试集，\n",
    "# 其中测试集的大小为30%。函数返回四个数组：\n",
    "# - x_train: 训练集的输入特征。\n",
    "# x_test: 测试集的输入特征。\n",
    "# y_train: 训练集的目标变量。\n",
    "# y_test: 测试集的目标变量。\n",
    "x_train,x_test,y_train,y_test=train_test_split(x,y,test_size=0.3)\n",
    "\n",
    "lr=LinearRegression()\n",
    "\n",
    "# 使用线性回归对象lr对训练集进行拟合，\n",
    "# 其中x_train.reshape(-1,1)将训练集的输入特征重塑为列向量，\n",
    "# 以便与目标变量y_train进行拟合。\n",
    "# reshape可以指定-1，表示根据其他维度的长度，自动计算当前的维度\n",
    "lr.fit(x_train.reshape(-1,1),y_train)\n",
    "\n",
    "#使用拟合好的线性回归模型对测试集进行预测，\n",
    "# 其中x_test.reshape(-1,1)\n",
    "# 将测试集的输入特征重塑为列向量，以便进行预测。\n",
    "y_hat=lr.predict(x_test.reshape(-1,1))\n",
    "\n"
   ]
  },
  {
   "attachments": {},
   "cell_type": "markdown",
   "metadata": {},
   "source": [
    "综上所述，上面这段代码主要是使用Scikit-learn中的train_test_split函数将数据集分为训练集和测试集，并使用线性回归模型对训练集进行拟合和测试集进行预测，以评估模型的性能。这种方法可以评估模型在未见过的数据上的表现，并避免模型过度拟合训练数据。在训练模型时，只使用训练集对模型进行拟合，而不使用测试集；在测试模型时，使用测试集对模型进行预测，并计算预测结果与实际结果之间的误差。最终，可以根据测试集上的误差评估模型的性能，并对模型进行调整和改进。"
   ]
  },
  {
   "attachments": {},
   "cell_type": "markdown",
   "metadata": {},
   "source": [
    "自己练习过程"
   ]
  },
  {
   "cell_type": "code",
   "execution_count": 20,
   "metadata": {},
   "outputs": [
    {
     "data": {
      "text/plain": [
       "[array([0.        , 1.11111111, 2.22222222, 3.33333333, 4.44444444,\n",
       "        5.55555556, 6.66666667]),\n",
       " array([ 7.77777778,  8.88888889, 10.        ]),\n",
       " array([-4.34862107, -0.58683813,  3.62718098, 11.20337963, 14.71086938,\n",
       "        18.39486545, 23.95009047]),\n",
       " array([32.22444852, 38.79887993, 36.57331953])]"
      ]
     },
     "execution_count": 20,
     "metadata": {},
     "output_type": "execute_result"
    }
   ],
   "source": [
    "#生成一个正太分布的干扰项（噪音）\n",
    "from sklearn.model_selection import train_test_split\n",
    "x=np.linspace(0,10,10)\n",
    "y=x*4-3+np.random.normal(0,3.5,len(x))\n",
    "train_test_split(x,y,test_size=0.3)\n",
    "# 切分的函数默认有一个洗牌的功能，不会按照数组的顺序进行切分\n",
    "# 如果不想洗牌，就添加一个shuffle = False 的参数，具体如下\n",
    "train_test_split(x,y,test_size=0.3,shuffle= False)"
   ]
  },
  {
   "attachments": {},
   "cell_type": "markdown",
   "metadata": {},
   "source": [
    "参数总结\n",
    "1.shuffle：用来指定是否进行洗牌操作，默认值为True\n",
    "2.random_state: 随机种子，用来控制随机行为，随机种子相同，随机洗牌的顺序就相同\n",
    "演示如下"
   ]
  },
  {
   "cell_type": "code",
   "execution_count": 22,
   "metadata": {},
   "outputs": [
    {
     "data": {
      "text/plain": [
       "[array([4.44444444, 0.        , 3.33333333, 1.11111111, 7.77777778,\n",
       "        8.88888889, 5.55555556]),\n",
       " array([ 2.22222222, 10.        ,  6.66666667]),\n",
       " array([14.71086938, -4.34862107, 11.20337963, -0.58683813, 32.22444852,\n",
       "        38.79887993, 18.39486545]),\n",
       " array([ 3.62718098, 36.57331953, 23.95009047])]"
      ]
     },
     "execution_count": 22,
     "metadata": {},
     "output_type": "execute_result"
    }
   ],
   "source": [
    "train_test_split(x,y,test_size=0.3,random_state=1)\n",
    "# 第一种结果 和第二种结果一样，因为随机种子一样，把洗牌的行为控制住了\n",
    "#[array([4.44444444, 0.        , 3.33333333, 1.11111111, 7.77777778,\n",
    "#         8.88888889, 5.55555556]),\n",
    "#  array([ 2.22222222, 10.        ,  6.66666667]),\n",
    "#  array([14.71086938, -4.34862107, 11.20337963, -0.58683813, 32.22444852,\n",
    "#         38.79887993, 18.39486545]),\n",
    "#  array([ 3.62718098, 36.57331953, 23.95009047])]\n",
    "# 第二种结果\n",
    "# [array([4.44444444, 0.        , 3.33333333, 1.11111111, 7.77777778,\n",
    "#         8.88888889, 5.55555556]),\n",
    "#  array([ 2.22222222, 10.        ,  6.66666667]),\n",
    "#  array([14.71086938, -4.34862107, 11.20337963, -0.58683813, 32.22444852,\n",
    "#         38.79887993, 18.39486545]),\n",
    "#  array([ 3.62718098, 36.57331953, 23.95009047])]\n"
   ]
  },
  {
   "attachments": {},
   "cell_type": "markdown",
   "metadata": {},
   "source": [
    "练习\n",
    "根据家庭电流数据集，使用全局有用功率（x）与全局电流（y）建立简单线性回归。\n",
    "\n",
    "global_active_power：全局有用功率。\n",
    "\n",
    "Global_intensity：全局电流。\n",
    "\n",
    "注意：数据中存在缺失值（?表示缺失）"
   ]
  },
  {
   "cell_type": "code",
   "execution_count": null,
   "metadata": {},
   "outputs": [],
   "source": []
  }
 ],
 "metadata": {
  "kernelspec": {
   "display_name": "base",
   "language": "python",
   "name": "python3"
  },
  "language_info": {
   "codemirror_mode": {
    "name": "ipython",
    "version": 3
   },
   "file_extension": ".py",
   "mimetype": "text/x-python",
   "name": "python",
   "nbconvert_exporter": "python",
   "pygments_lexer": "ipython3",
   "version": "3.9.13"
  },
  "orig_nbformat": 4
 },
 "nbformat": 4,
 "nbformat_minor": 2
}
