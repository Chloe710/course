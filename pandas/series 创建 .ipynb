{
 "cells": [
  {
   "cell_type": "code",
   "execution_count": 15,
   "metadata": {},
   "outputs": [
    {
     "data": {
      "text/plain": [
       "0    11\n",
       "1    22\n",
       "2    33\n",
       "3    44\n",
       "dtype: int64"
      ]
     },
     "execution_count": 15,
     "metadata": {},
     "output_type": "execute_result"
    }
   ],
   "source": [
    "import pandas as pd\n",
    "import numpy as np\n",
    "\n",
    "list1=[11,22,33,44]\n",
    "sl=pd.Series(list1)\n",
    "sl\n"
   ]
  },
  {
   "cell_type": "code",
   "execution_count": 16,
   "metadata": {},
   "outputs": [
    {
     "data": {
      "text/plain": [
       "0    a\n",
       "1    b\n",
       "2    c\n",
       "3    d\n",
       "dtype: object"
      ]
     },
     "execution_count": 16,
     "metadata": {},
     "output_type": "execute_result"
    }
   ],
   "source": [
    "sl1=pd.Series(['a','b','c','d'])\n",
    "sl1"
   ]
  },
  {
   "cell_type": "code",
   "execution_count": 12,
   "metadata": {},
   "outputs": [
    {
     "data": {
      "text/plain": [
       "A    11\n",
       "B    22\n",
       "C    33\n",
       "D    44\n",
       "dtype: int64"
      ]
     },
     "execution_count": 12,
     "metadata": {},
     "output_type": "execute_result"
    }
   ],
   "source": [
    "import pandas as pd\n",
    "import numpy as np\n",
    "d={\n",
    "  'A':11,\n",
    "  'B':22,\n",
    "  'C':33,\n",
    "  'D':44,\n",
    " }\n",
    "sd=pd.Series(d)\n",
    "sd"
   ]
  },
  {
   "cell_type": "code",
   "execution_count": 13,
   "metadata": {},
   "outputs": [
    {
     "data": {
      "text/plain": [
       "A    [[2, 0, 6], [0, 4, 6]]\n",
       "B    [[7, 0, 1], [5, 8, 5]]\n",
       "C    [[4, 1, 6], [1, 9, 9]]\n",
       "D    [[0, 9, 3], [7, 1, 5]]\n",
       "dtype: object"
      ]
     },
     "execution_count": 13,
     "metadata": {},
     "output_type": "execute_result"
    }
   ],
   "source": [
    "import pandas as pd\n",
    "import numpy as np\n",
    "import random \n",
    "d={\n",
    "  'A':np.random.randint(0,10,size=(2,3)),\n",
    "  'B':np.random.randint(0,10,size=(2,3)), \n",
    "  'C':np.random.randint(0,10,size=(2,3)),\n",
    "  'D':np.random.randint(0,10,size=(2,3)),\n",
    " }\n",
    "sD=pd.Series(d)\n",
    "sD"
   ]
  },
  {
   "cell_type": "code",
   "execution_count": 27,
   "metadata": {},
   "outputs": [
    {
     "data": {
      "text/plain": [
       "array([array([[2, 0, 6],\n",
       "              [0, 4, 6]]), array([[7, 0, 1],\n",
       "                                  [5, 8, 5]]), array([[4, 1, 6],\n",
       "                                                      [1, 9, 9]]),\n",
       "       array([[0, 9, 3],\n",
       "              [7, 1, 5]])], dtype=object)"
      ]
     },
     "execution_count": 27,
     "metadata": {},
     "output_type": "execute_result"
    }
   ],
   "source": [
    "# print(sD.value())\n",
    "sD.values\n"
   ]
  },
  {
   "cell_type": "code",
   "execution_count": 23,
   "metadata": {},
   "outputs": [
    {
     "data": {
      "text/plain": [
       "Index(['A', 'B', 'C', 'D'], dtype='object')"
      ]
     },
     "execution_count": 23,
     "metadata": {},
     "output_type": "execute_result"
    }
   ],
   "source": [
    "sD.index"
   ]
  },
  {
   "cell_type": "code",
   "execution_count": 34,
   "metadata": {},
   "outputs": [
    {
     "data": {
      "text/plain": [
       "A    [[0, 6, 6], [0, 0, 1]]\n",
       "C    [[7, 8, 7], [3, 4, 3]]\n",
       "D    [[0, 8, 7], [3, 7, 8]]\n",
       "dtype: object"
      ]
     },
     "execution_count": 34,
     "metadata": {},
     "output_type": "execute_result"
    }
   ],
   "source": [
    "import pandas as pd\n",
    "import numpy as np\n",
    "import random \n",
    "d={\n",
    "  'A':np.random.randint(0,10,size=(2,3)),\n",
    "  'B':np.random.randint(0,10,size=(2,3)), \n",
    "  'C':np.random.randint(0,10,size=(2,3)),\n",
    "  'D':np.random.randint(0,10,size=(2,3)),\n",
    " }\n",
    "sD=pd.Series(d)\n",
    "sD\n"
   ]
  },
  {
   "cell_type": "code",
   "execution_count": 42,
   "metadata": {},
   "outputs": [
    {
     "data": {
      "text/plain": [
       "array([[0, 6, 6],\n",
       "       [0, 0, 1]])"
      ]
     },
     "execution_count": 42,
     "metadata": {},
     "output_type": "execute_result"
    }
   ],
   "source": [
    "\n",
    "sD['A']\n"
   ]
  },
  {
   "cell_type": "code",
   "execution_count": 46,
   "metadata": {},
   "outputs": [
    {
     "name": "stdout",
     "output_type": "stream",
     "text": [
      "A    [[0, 6, 6], [0, 0, 1]]\n",
      "dtype: object\n",
      "[[0 6 6]\n",
      " [0 0 1]]\n"
     ]
    },
    {
     "data": {
      "text/plain": [
       "array([[0, 6, 6],\n",
       "       [0, 0, 1]])"
      ]
     },
     "execution_count": 46,
     "metadata": {},
     "output_type": "execute_result"
    }
   ],
   "source": [
    "print(sD[['A']])\n",
    "print(sD['A'])\n",
    "sD.loc['A']"
   ]
  },
  {
   "cell_type": "code",
   "execution_count": 43,
   "metadata": {},
   "outputs": [
    {
     "data": {
      "text/plain": [
       "A    [[0, 6, 6], [0, 0, 1]]\n",
       "B    [[7, 6, 5], [7, 0, 8]]\n",
       "dtype: object"
      ]
     },
     "execution_count": 43,
     "metadata": {},
     "output_type": "execute_result"
    }
   ],
   "source": []
  },
  {
   "cell_type": "code",
   "execution_count": 45,
   "metadata": {},
   "outputs": [
    {
     "data": {
      "text/plain": [
       "array([[0, 6, 6],\n",
       "       [0, 0, 1]])"
      ]
     },
     "execution_count": 45,
     "metadata": {},
     "output_type": "execute_result"
    }
   ],
   "source": [
    "sD.loc['A']"
   ]
  }
 ],
 "metadata": {
  "kernelspec": {
   "display_name": "base",
   "language": "python",
   "name": "python3"
  },
  "language_info": {
   "codemirror_mode": {
    "name": "ipython",
    "version": 3
   },
   "file_extension": ".py",
   "mimetype": "text/x-python",
   "name": "python",
   "nbconvert_exporter": "python",
   "pygments_lexer": "ipython3",
   "version": "3.9.13"
  },
  "orig_nbformat": 4
 },
 "nbformat": 4,
 "nbformat_minor": 2
}
