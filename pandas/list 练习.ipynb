{
 "cells": [
  {
   "cell_type": "code",
   "execution_count": 1,
   "metadata": {},
   "outputs": [
    {
     "name": "stdout",
     "output_type": "stream",
     "text": [
      "[]\n"
     ]
    }
   ],
   "source": [
    "list_=[i for i in range (1,10) ]\n",
    "list1=list_*0\n",
    "print(list1)"
   ]
  },
  {
   "cell_type": "code",
   "execution_count": 2,
   "metadata": {},
   "outputs": [
    {
     "name": "stdout",
     "output_type": "stream",
     "text": [
      "[1]\n",
      "[1, 1]\n",
      "[1, 2, 1]\n",
      "[1, 3, 3, 1]\n",
      "[1, 4, 6, 4, 1]\n",
      "[1, 5, 10, 10, 5, 1]\n",
      "[1, 6, 15, 20, 15, 6, 1]\n",
      "[1, 7, 21, 35, 35, 21, 7, 1]\n",
      "[1, 8, 28, 56, 70, 56, 28, 8, 1]\n"
     ]
    }
   ],
   "source": [
    "rows=int(input(''))\n",
    "yhsj=[[1],[1,1]]\n",
    "for i in range(2,rows):\n",
    "    temp =[1]\n",
    "    for j in range(1,i):\n",
    "        temp.append(yhsj[i-1][j]+yhsj[i-1][j-1])\n",
    "    temp.append(1)\n",
    "    yhsj.append(temp)\n",
    "for i in yhsj:\n",
    "    print(i)\n"
   ]
  },
  {
   "cell_type": "code",
   "execution_count": 3,
   "metadata": {},
   "outputs": [
    {
     "name": "stdout",
     "output_type": "stream",
     "text": [
      "-----------通讯录-------------\n",
      "姓名 \t 电话\n",
      "a \t\t 137\n",
      "b \t\t 136\n",
      "c \t\t 138\n",
      "d \t\t 156\n",
      "e \t\t 153\n",
      "f \t\t 199\n",
      "-----------------------------\n",
      "程序结束！\n"
     ]
    }
   ],
   "source": [
    "name=['a','b','c','d','e']\n",
    "tel=['137','136','138','156','153']\n",
    "\n",
    "while True:\n",
    "    A=int(input('请选择你的操作:1 新建联系人 2 查看联系人 3 修改联系人 4 删除联系人 0 退出\\n'))\n",
    "    if A==1:\n",
    "        newn=input('请新建联系人姓名:')\n",
    "        newt=input('请新建联系人电话:')\n",
    "        name.append(newn)\n",
    "        tel.append(newt)\n",
    "    elif A==2:\n",
    "        print('-----------通讯录-------------')\n",
    "        print('姓名', '\\t', '电话')\n",
    "        for n, t in zip(name, tel):\n",
    "            print(n, '\\t\\t', t)\n",
    "        print('-----------------------------')\n",
    "    elif A ==3:\n",
    "        mendn = input('请输入修改联系人姓名：')\n",
    "        mix = None\n",
    "        for i in range(0, len(name)):\n",
    "            if name[i] == mendn:\n",
    "                mix = i\n",
    "                mendt = input('请输入新联系人电话：')\n",
    "                tel[mix] = mendt\n",
    "                break\n",
    "        if mix is not None:\n",
    "            print('修改完成！')\n",
    "        else:\n",
    "            print('员工信息未找到。')\n",
    "\n",
    "    elif A == 4:\n",
    "        deln = input('请输入删除联系人姓名：')\n",
    "        rep = None\n",
    "        for i in range(0, len(name)):\n",
    "            if name[i] == deln:\n",
    "                rep = i\n",
    "                del name[rep]\n",
    "                del tel[rep]\n",
    "                break\n",
    "        if rep is not None:\n",
    "            print('联系人已删除')\n",
    "        else:\n",
    "            print('员工信息未找到。')\n",
    "\n",
    "    elif A==0:\n",
    "        print('程序结束！')\n",
    "        break\n",
    "    else:\n",
    "        print('请重新输入：')"
   ]
  }
 ],
 "metadata": {
  "kernelspec": {
   "display_name": "base",
   "language": "python",
   "name": "python3"
  },
  "language_info": {
   "codemirror_mode": {
    "name": "ipython",
    "version": 3
   },
   "file_extension": ".py",
   "mimetype": "text/x-python",
   "name": "python",
   "nbconvert_exporter": "python",
   "pygments_lexer": "ipython3",
   "version": "3.9.13"
  },
  "orig_nbformat": 4
 },
 "nbformat": 4,
 "nbformat_minor": 2
}
