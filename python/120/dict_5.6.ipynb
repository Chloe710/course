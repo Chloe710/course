{
 "cells": [
  {
   "cell_type": "code",
   "execution_count": null,
   "metadata": {},
   "outputs": [],
   "source": [
    "import re\n",
    "s='''\n",
    "Twinkle, twinkle, little star, How I wonder what you are! \n",
    "Up above the world so high, Like a diamond in the sky. \n",
    "Twinkle, twinkle, little star, How I wonder what you are! \n",
    "When the blazing sun is gone, \n",
    "When he nothing shines upon,\n",
    "Then you show your little light, \n",
    "Twinkle, twinkle, all the night.\n",
    "'''\n",
    "s1=s.lower()\n",
    "# re.findall('[a-zA-Z]+', a)\n",
    "regex='[a-z]+'\n",
    "s2=re.findall(regex,s)\n",
    "s2.sort()\n",
    "print(s2)\n",
    "d={}\n",
    "list_c=[]\n",
    "for k in s2:\n",
    "    c=s2.count(k)\n",
    "    list_c.append(c)\n",
    "    d[k]=c\n",
    "# print(d)  \n",
    "for j in range(len(list_c)-1):\n",
    "    for i in range(len(list_c)-1-j):\n",
    "        if list_c[i]>list_c[i+1]:\n",
    "            list_c[i],list_c[i+1]=list_c[i+1],list_c[i]\n",
    "    # print(f'第{j}次排序结果是{list_c}')    \n",
    "for v in list_c:    \n",
    "    d[k]=v\n",
    "print(d)"
   ]
  },
  {
   "cell_type": "code",
   "execution_count": null,
   "metadata": {},
   "outputs": [],
   "source": [
    "#冒泡排序\n",
    "from random import randint as rd\n",
    "\n",
    "reds = []\n",
    "# 在循环里赋值会每次循环都重新计算变量的值，而在循环外赋值只会计算一次变量的值。\n",
    "while True:\n",
    "    reds.clear()\n",
    "    for i in range(6):\n",
    "        red = rd(1, 33)\n",
    "        if red not in reds:\n",
    "            reds.append(red)\n",
    "    reds.sort()\n",
    "    blue = rd(1, 16)\n",
    "    print(f'redball is{reds}blueball is {blue}')\n",
    "    A = input(f'Do you want to continue?(Y/N)')\n",
    "    if A == 'N':\n",
    "        break\n",
    "    elif A == 'Y':\n",
    "        continue\n",
    "    else:\n",
    "        B=input('please input Y/N')\n",
    "        if B=='Y':\n",
    "            continue\n",
    "        else:\n",
    "            break"
   ]
  },
  {
   "cell_type": "code",
   "execution_count": null,
   "metadata": {},
   "outputs": [],
   "source": [
    "import random \n",
    "d={\n",
    "  'A':np.random.randint(0,10),\n",
    "  'B':np.random.randint(0,10), \n",
    "  'C':np.random.randint(0,10),\n",
    "  'D':np.random.randint(0,10),\n",
    " }\n",
    "d={'A': 9, 'B': 2, 'C': 6, 'D': 5}\n",
    "print(d)\n"
   ]
  }
 ],
 "metadata": {
  "language_info": {
   "name": "python"
  },
  "orig_nbformat": 4
 },
 "nbformat": 4,
 "nbformat_minor": 2
}
