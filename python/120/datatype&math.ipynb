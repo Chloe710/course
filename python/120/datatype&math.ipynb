{
 "cells": [
  {
   "cell_type": "code",
   "execution_count": 2,
   "metadata": {},
   "outputs": [
    {
     "name": "stdout",
     "output_type": "stream",
     "text": [
      "a+=b,a=3,b=2\n",
      "a-=b,a=1,b=2\n",
      "a*=b,a=2,b=2\n",
      "a**=b,a=4,b=2\n",
      "a/=b,a=2.0,b=2\n",
      "a//=b,a=1.0,b=2\n",
      "a%=b,a=1.0,b=2\n"
     ]
    }
   ],
   "source": [
    "a=1\n",
    "b=2\n",
    "a+=b\n",
    "print(f'a+=b,a={a},b={b}')\n",
    "a-=b\n",
    "print(f'a-=b,a={a},b={b}')\n",
    "a*=b\n",
    "print(f'a*=b,a={a},b={b}')\n",
    "a**=b\n",
    "print(f'a**=b,a={a},b={b}')\n",
    "a/=b\n",
    "print(f'a/=b,a={a},b={b}')\n",
    "a//=b\n",
    "print(f'a//=b,a={a},b={b}')\n",
    "a%=b\n",
    "print(f'a%=b,a={a},b={b}')\n"
   ]
  },
  {
   "cell_type": "code",
   "execution_count": 5,
   "metadata": {},
   "outputs": [
    {
     "name": "stdout",
     "output_type": "stream",
     "text": [
      "1+2+3+4=10\n"
     ]
    }
   ],
   "source": [
    "a=1234\n",
    "print(f'{a//1000}+{(a//100)%10}+{(a%100)//10}+{a%10}={(a//1000)+((a//100)%10)+((a%100)//10)+(a%10)}')"
   ]
  },
  {
   "cell_type": "code",
   "execution_count": 24,
   "metadata": {},
   "outputs": [
    {
     "name": "stdout",
     "output_type": "stream",
     "text": [
      "True\n"
     ]
    }
   ],
   "source": [
    "a=str(12321)\n",
    "b=a[::-1]\n",
    "print(a == b)"
   ]
  },
  {
   "cell_type": "code",
   "execution_count": 41,
   "metadata": {},
   "outputs": [
    {
     "name": "stdout",
     "output_type": "stream",
     "text": [
      "56783, 是回文数字: False\n"
     ]
    }
   ],
   "source": [
    "n = int(input('请输入一个五位数: '))\n",
    "ge = n % 10\n",
    "shi = n // 10 % 10\n",
    "qian = n // 1000 % 10\n",
    "wan = n // 10000\n",
    "result = ge == wan and shi == qian\n",
    "print(f'{n}, 是回文数字: {result}')"
   ]
  },
  {
   "cell_type": "code",
   "execution_count": 29,
   "metadata": {},
   "outputs": [
    {
     "name": "stdout",
     "output_type": "stream",
     "text": [
      "5678的每位数相加的结果是：26\n"
     ]
    }
   ],
   "source": [
    "A = int(input('请输入一个四位数'))\n",
    "if 1000 < A < 9999:\n",
    "    a, b, c, d = A % 10, A // 10 % 10, A // 100 % 10, A // 1000\n",
    "    sum_ = a + b + c + d\n",
    "    print(f'{A}的每位数相加的结果是：{sum_}')"
   ]
  },
  {
   "cell_type": "code",
   "execution_count": 28,
   "metadata": {},
   "outputs": [
    {
     "name": "stdout",
     "output_type": "stream",
     "text": [
      "False\n"
     ]
    }
   ],
   "source": [
    "from random import randint\n",
    "n=13987654321\n",
    "siweishu=randint(1000,9999)\n",
    "housiwei=n%10000\n",
    "print(siweishu==housiwei)"
   ]
  },
  {
   "cell_type": "code",
   "execution_count": 39,
   "metadata": {},
   "outputs": [
    {
     "name": "stdout",
     "output_type": "stream",
     "text": [
      "the perimeter is 5+8+11=24\n",
      "the area is 168.0\n"
     ]
    }
   ],
   "source": [
    "a,b,c=int(input('please input the length of the first side :')),int(input('please input the length of the second side :')),int(input('please input the length of the third side :'))\n",
    "s=(a+b+c)/2\n",
    "S = s*(s-a)*(s-b)*(s-c)**1/2\n",
    "if a+b> c:\n",
    "    print(f'the perimeter is {a}+{b}+{c}={a+b+c}')\n",
    "    print(f'the area is {S}')\n",
    "else:\n",
    "    print(f'This is not a triangle!')"
   ]
  },
  {
   "cell_type": "code",
   "execution_count": 40,
   "metadata": {},
   "outputs": [
    {
     "name": "stdout",
     "output_type": "stream",
     "text": [
      "9月有30天\n"
     ]
    }
   ],
   "source": [
    "day=0\n",
    "year=int(input('请输入任意年份'))\n",
    "month=int(input('请输入任意月份'))\n",
    "if month in [1,3,5,7,8,10,12]:\n",
    "    print(f'{month}月有31天。')\n",
    "elif month in [4,6,9,11]:\n",
    "    print(f'{month}月有30天')\n",
    "elif month==2 and year%4==0 and year%100!=0 or year%400==0:\n",
    "    print(f'{month}月有29天')\n",
    "else:\n",
    "    print(f'{year}年{month}月有28天')"
   ]
  }
 ],
 "metadata": {
  "kernelspec": {
   "display_name": "base",
   "language": "python",
   "name": "python3"
  },
  "language_info": {
   "codemirror_mode": {
    "name": "ipython",
    "version": 3
   },
   "file_extension": ".py",
   "mimetype": "text/x-python",
   "name": "python",
   "nbconvert_exporter": "python",
   "pygments_lexer": "ipython3",
   "version": "3.9.13"
  },
  "orig_nbformat": 4
 },
 "nbformat": 4,
 "nbformat_minor": 2
}
