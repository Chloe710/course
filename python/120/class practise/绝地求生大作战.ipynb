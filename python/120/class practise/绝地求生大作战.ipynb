{
 "cells": [
  {
   "cell_type": "code",
   "execution_count": 15,
   "metadata": {},
   "outputs": [
    {
     "name": "stdout",
     "output_type": "stream",
     "text": [
      "创建名为大漠雄鹰的玩家对象 创建名为大反派的玩家对象\n",
      "大漠雄鹰装备了杀伤力为5的平底锅 大反派装备了杀伤力为5的平底锅\n",
      "大漠雄鹰使用平底锅攻击大反派,造成5点伤害,大反派还剩95点血\n",
      "大漠雄鹰使用平底锅攻击大反派,造成5点伤害,大反派还剩90点血\n",
      "大漠雄鹰使用平底锅攻击大反派,造成5点伤害,大反派还剩85点血\n",
      "大漠雄鹰使用平底锅攻击大反派,造成5点伤害,大反派还剩80点血\n",
      "大漠雄鹰使用平底锅攻击大反派,造成5点伤害,大反派还剩75点血\n",
      "大漠雄鹰使用平底锅攻击大反派,造成5点伤害,大反派还剩70点血\n",
      "大漠雄鹰使用平底锅攻击大反派,造成5点伤害,大反派还剩65点血\n",
      "大漠雄鹰使用平底锅攻击大反派,造成5点伤害,大反派还剩60点血\n",
      "大漠雄鹰使用平底锅攻击大反派,造成5点伤害,大反派还剩55点血\n",
      "大漠雄鹰使用平底锅攻击大反派,造成5点伤害,大反派还剩50点血\n",
      "大漠雄鹰使用平底锅攻击大反派,造成5点伤害,大反派还剩45点血\n",
      "大漠雄鹰使用平底锅攻击大反派,造成5点伤害,大反派还剩40点血\n",
      "大漠雄鹰使用平底锅攻击大反派,造成5点伤害,大反派还剩35点血\n",
      "大漠雄鹰使用平底锅攻击大反派,造成5点伤害,大反派还剩30点血\n",
      "大漠雄鹰使用平底锅攻击大反派,造成5点伤害,大反派还剩25点血\n",
      "大漠雄鹰使用平底锅攻击大反派,造成5点伤害,大反派还剩20点血\n",
      "大漠雄鹰使用平底锅攻击大反派,造成5点伤害,大反派还剩15点血\n",
      "大漠雄鹰使用平底锅攻击大反派,造成5点伤害,大反派还剩10点血\n",
      "大漠雄鹰使用平底锅攻击大反派,造成5点伤害,大反派还剩5点血\n",
      "大漠雄鹰使用平底锅攻击大反派,造成5点伤害,大反派还剩0点血\n"
     ]
    }
   ],
   "source": [
    "  \n",
    "class Game(object):\n",
    "    def hero(self,hname):\n",
    "        self.hname=hname\n",
    "        return f'创建名为{self.hname}的玩家对象'\n",
    "    def monster(self,mname):\n",
    "        self.mname=mname\n",
    "        return f'创建名为{mname}的玩家对象'\n",
    "    def weapon(self,name,wtype,wpower):\n",
    "        self.name=name\n",
    "        self.wtype=wtype\n",
    "        self.wpower=wpower\n",
    "        return f'{self.name}装备了杀伤力为{self.wpower}的{self.wtype}'\n",
    "        \n",
    "    def attack(self,blood_remain,assault,defense):\n",
    "        self.assault=assault\n",
    "        self.defense=defense\n",
    "        self.blood_remain=blood_remain\n",
    "        while True:\n",
    "            if self.blood_remain==0:\n",
    "                break\n",
    "            else:\n",
    "                self.blood_remain-=self.wpower\n",
    "                print( f'{self.assault}使用{self.wtype}攻击{self.defense},造成{self.wpower}点伤害,{self.defense}还剩{self.blood_remain}点血')\n",
    "\n",
    "game=Game()\n",
    "greeting1=game.hero(hname='大漠雄鹰')\n",
    "greeting2=game.monster(mname='大反派')\n",
    "print(greeting1,greeting2)\n",
    "h_strength=game.weapon(name='大漠雄鹰',wtype='平底锅',wpower=5)\n",
    "m_strength=game.weapon(name='大反派',wtype='平底锅',wpower=5)\n",
    "print(h_strength,m_strength)\n",
    "h_attack=game.attack(blood_remain=100,assault='大漠雄鹰',defense='大反派')\n",
    "# m_attack=game.attack(blood_remain=100,assault='大反派',defense='大漠雄鹰')\n",
    "# print(h_attack)"
   ]
  }
 ],
 "metadata": {
  "kernelspec": {
   "display_name": "base",
   "language": "python",
   "name": "python3"
  },
  "language_info": {
   "codemirror_mode": {
    "name": "ipython",
    "version": 3
   },
   "file_extension": ".py",
   "mimetype": "text/x-python",
   "name": "python",
   "nbconvert_exporter": "python",
   "pygments_lexer": "ipython3",
   "version": "3.9.13"
  },
  "orig_nbformat": 4
 },
 "nbformat": 4,
 "nbformat_minor": 2
}
