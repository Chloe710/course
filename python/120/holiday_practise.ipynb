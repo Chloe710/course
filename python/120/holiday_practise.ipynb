{
 "cells": [
  {
   "attachments": {},
   "cell_type": "markdown",
   "metadata": {},
   "source": [
    "1. 请编写程序实现以下功能\n",
    "    1. 通过程序实现输出铁锤妹妹的工作安排，如果今天是工作日，在看一下天气预报如果天气好（阳光明媚）就去和腾讯谈一笔一个小目标的业务，如果天气不好就在公司准备谈业务的材料\n",
    "    2. 如果不是工作日，那就可以休息了，查看休息日的温度如果在35度往上就去水魔方玩，否则就是欢乐谷玩儿\n",
    "\n"
   ]
  },
  {
   "cell_type": "code",
   "execution_count": null,
   "metadata": {},
   "outputs": [],
   "source": []
  },
  {
   "attachments": {},
   "cell_type": "markdown",
   "metadata": {},
   "source": [
    "2. 给以一个三角形的三边长a,b和c(边长是浮点数),请你判断三角形的形状。 若是锐角三角形，输出R, 若是直角三角形，输出Z， 若是钝角三角形，输出D， 若三边长不能构成三角形，输出W."
   ]
  },
  {
   "cell_type": "code",
   "execution_count": null,
   "metadata": {},
   "outputs": [],
   "source": [
    "a,b,c="
   ]
  },
  {
   "attachments": {},
   "cell_type": "markdown",
   "metadata": {},
   "source": [
    "3. 通过循环在控制台打印以下内容\n",
    "\n",
    "    \n",
    "    ```python\n",
    "    1 2 3 4 5 4 3 2 1\n",
    "      1 2 3 4 3 2 1\n",
    "        1 2 3 2 1\n",
    "          1 2 1\n",
    "            1\n",
    "    ```"
   ]
  },
  {
   "cell_type": "code",
   "execution_count": 28,
   "metadata": {},
   "outputs": [
    {
     "name": "stdout",
     "output_type": "stream",
     "text": [
      "123454321\n",
      " 1234321\n",
      "  12321\n",
      "   121\n",
      "    1\n"
     ]
    }
   ],
   "source": [
    "s1='12345'\n",
    "blank=' '\n",
    "for i in range(5):\n",
    "    index=len(s1)-i\n",
    "    s2,s3=s1[:index],s1[:index-1]\n",
    "    s=s2+s3[::-1]\n",
    "    print(f'{blank*(i)}{s}')\n",
    "    if i ==4:\n",
    "        break"
   ]
  },
  {
   "cell_type": "code",
   "execution_count": 36,
   "metadata": {},
   "outputs": [
    {
     "name": "stdout",
     "output_type": "stream",
     "text": [
      "    \n",
      "   *\n",
      "  **\n",
      " ***\n",
      "****\n",
      " ***\n",
      "  **\n",
      "   *\n"
     ]
    }
   ],
   "source": []
  },
  {
   "attachments": {},
   "cell_type": "markdown",
   "metadata": {},
   "source": [
    "4. 如下图形\n",
    "    \n",
    "    ```\n",
    "          *\n",
    "        * *\n",
    "      * * *\n",
    "    * * * *\n",
    "      * * *\n",
    "        * *\n",
    "          *\n",
    "    ```\n",
    "    "
   ]
  },
  {
   "cell_type": "code",
   "execution_count": 42,
   "metadata": {},
   "outputs": [
    {
     "name": "stdout",
     "output_type": "stream",
     "text": [
      "    \n",
      "   *\n",
      "  **\n",
      " ***\n",
      "****\n",
      " ***\n",
      "  **\n",
      "   *\n"
     ]
    }
   ],
   "source": [
    "blank=' '\n",
    "s='*'\n",
    "for i in range(5):\n",
    "    print(blank*(4-i)+s*i)\n",
    "for j in range(1,4):\n",
    "    print(f'{blank*(j)}{s*(4-j)}')\n"
   ]
  },
  {
   "attachments": {},
   "cell_type": "markdown",
   "metadata": {},
   "source": [
    "5. 使用python实现打印菱形"
   ]
  },
  {
   "cell_type": "code",
   "execution_count": 112,
   "metadata": {},
   "outputs": [
    {
     "name": "stdout",
     "output_type": "stream",
     "text": [
      "    /\\\n",
      "   /  \\\n",
      "  /    \\\n",
      " /      \\\n",
      " \\      /\n",
      "  \\    /\n",
      "   \\  /\n",
      "    \\/\n",
      "    **\n",
      "   *  *\n",
      "  *    *\n",
      " *      *\n",
      " *      *\n",
      "  *    *\n",
      "   *  *\n",
      "    **\n"
     ]
    }
   ],
   "source": [
    "s1='12345'\n",
    "s,z,blank='/','\\\\',' '\n",
    "for i in range(1,len(s1)):\n",
    "    print(f'{blank*(len(s1)-i)}{s}{blank*(i-1)*2}{z}')\n",
    "for j in range(1,len(s1)):\n",
    "    print(f'{blank*j}{z}{blank*((len(s1)-j-1)*2)}{s}')\n",
    "\n",
    "s1='12345'\n",
    "s,blank='*',' '\n",
    "for i in range(1,len(s1)):\n",
    "    print(f'{blank*(len(s1)-i)}{s}{blank*(i-1)*2}{s}')\n",
    "for j in range(1,len(s1)):\n",
    "    print(f'{blank*j}{s}{blank*((len(s1)-j-1)*2)}{s}')                                           "
   ]
  },
  {
   "attachments": {},
   "cell_type": "markdown",
   "metadata": {},
   "source": [
    "\n",
    "6. 鸡翁一值钱五，鸡母一值钱三，鸡雏三值钱一。百钱买百鸡，问鸡翁、鸡母、鸡雏各几何？通过python程序实现"
   ]
  },
  {
   "cell_type": "code",
   "execution_count": null,
   "metadata": {},
   "outputs": [],
   "source": []
  },
  {
   "attachments": {},
   "cell_type": "markdown",
   "metadata": {},
   "source": [
    "7. 计算 1-2+3-4+5-…-100 的值"
   ]
  },
  {
   "cell_type": "code",
   "execution_count": 117,
   "metadata": {},
   "outputs": [
    {
     "name": "stdout",
     "output_type": "stream",
     "text": [
      "-50\n"
     ]
    }
   ],
   "source": [
    "even=[]\n",
    "odd=[]\n",
    "for i in range(0,101):\n",
    "    if i%2==0:\n",
    "        even.append(i)\n",
    "for j in range(1,100):\n",
    "    if j%2!=0:\n",
    "        odd.append(j)\n",
    "result=sum(odd)-sum(even)\n",
    "print(result)\n",
    "\n"
   ]
  },
  {
   "attachments": {},
   "cell_type": "markdown",
   "metadata": {},
   "source": [
    "8. 输入任意个数(输入-1结束录入),然后输出最大值、最小值、平均值、中位数"
   ]
  },
  {
   "cell_type": "code",
   "execution_count": null,
   "metadata": {},
   "outputs": [],
   "source": []
  },
  {
   "attachments": {},
   "cell_type": "markdown",
   "metadata": {},
   "source": [
    "9. 设计一个猜数游戏, 随机产生一个1~100之间的随机数,然后用户输入猜想的数字,如果猜的数字大于产生的数显示‘high’, 小于显示‘low’,等于显示‘you won!’,游戏结束.用户最多猜7次,7次均未中,则显示‘you lost!’并给出正确答案,游戏结束后询问用户是否继续游戏输入y继续输入n结束程序"
   ]
  },
  {
   "cell_type": "code",
   "execution_count": null,
   "metadata": {},
   "outputs": [
    {
     "name": "stdout",
     "output_type": "stream",
     "text": [
      "high\n",
      "high\n",
      "high\n",
      "low\n",
      "high\n",
      "high\n",
      "You lost!\n"
     ]
    }
   ],
   "source": [
    "from random import randint \n",
    "rand_=randint(1,100)\n",
    "for i in range(6):\n",
    "    answer=int(input('Please input a number: '))\n",
    "    print('low' if answer< rand_ else 'high')\n",
    "    if answer == rand_ :\n",
    "        print('You won !')\n",
    "        break\n",
    "    if i ==5:\n",
    "        print('You lost!')\n",
    "        break"
   ]
  },
  {
   "attachments": {},
   "cell_type": "markdown",
   "metadata": {},
   "source": [
    "10. 去掉字符串中所有的空格 "
   ]
  },
  {
   "cell_type": "code",
   "execution_count": null,
   "metadata": {},
   "outputs": [],
   "source": []
  },
  {
   "attachments": {},
   "cell_type": "markdown",
   "metadata": {},
   "source": [
    "11. 获取字符中汉字的个数（汉字键盘录入）"
   ]
  },
  {
   "cell_type": "code",
   "execution_count": 155,
   "metadata": {},
   "outputs": [
    {
     "name": "stdout",
     "output_type": "stream",
     "text": [
      "士大夫胜多负少的士大夫2343453245wed sd;fljslfj l四点零分距离首府就\n",
      "['士', '大', '夫', '胜', '多', '负', '少', '的', '士', '大', '夫', '四', '点', '零', '分', '距', '离', '首', '府', '就']\n",
      "20\n"
     ]
    }
   ],
   "source": [
    "import re\n",
    "c='士大夫胜多负少的士大夫2343453245wed sd;fljslfj l四点零分距离首府就'\n",
    "#input('请输入一串汉字')\n",
    "print(c)\n",
    "regex='[\\u4e00-\\u9fff]'\n",
    "result=re.findall(regex,c)\n",
    "print(result)\n",
    "d=len(result)\n",
    "print(d)\n"
   ]
  },
  {
   "attachments": {},
   "cell_type": "markdown",
   "metadata": {},
   "source": [
    "12. 求1-1000之间能被13整除的最大的那个数"
   ]
  },
  {
   "cell_type": "code",
   "execution_count": null,
   "metadata": {},
   "outputs": [],
   "source": []
  },
  {
   "attachments": {},
   "cell_type": "markdown",
   "metadata": {},
   "source": [
    "13. 'dasda213sdsa，，，dadasd0000dsadsadsa12312sdc455是萨法法师', 取出所有的字母"
   ]
  },
  {
   "cell_type": "code",
   "execution_count": 146,
   "metadata": {},
   "outputs": [
    {
     "name": "stdout",
     "output_type": "stream",
     "text": [
      "['dasda', 'sdsa', 'dadasd', 'dsadsadsa', 'sdc']\n"
     ]
    }
   ],
   "source": [
    "import re\n",
    "data= 'dasda213sdsa,,,dadasd0000dsadsadsa12312sdc455是萨法法师'\n",
    "regex='[a-z]+'\n",
    "result=re.findall(regex,data)\n",
    "print(result)"
   ]
  },
  {
   "cell_type": "code",
   "execution_count": 145,
   "metadata": {},
   "outputs": [
    {
     "data": {
      "text/plain": [
       "['dasda', 'sdsa', 'dadasd', 'dsadsadsa', 'sdc']"
      ]
     },
     "execution_count": 145,
     "metadata": {},
     "output_type": "execute_result"
    }
   ],
   "source": [
    "a = 'dasda213sdsa,,,dadasd0000dsadsadsa12312sdc455是萨法法师'\n",
    "import re\n",
    "a = re.findall('[a-zA-Z]+', a)\n",
    "a"
   ]
  },
  {
   "attachments": {},
   "cell_type": "markdown",
   "metadata": {},
   "source": [
    "14.有5个人坐在一起，问第五个人人多少岁？他说比第4个人大2岁。问第4个人岁数，他说比第3个人大2岁。问第三个人，又说比第2人大两岁，问第2\n",
    "个人，说比第一个人大两岁。最后问第一个人，他说是10岁，请问第五个人多大？"
   ]
  },
  {
   "cell_type": "code",
   "execution_count": null,
   "metadata": {},
   "outputs": [],
   "source": [
    "print"
   ]
  },
  {
   "attachments": {},
   "cell_type": "markdown",
   "metadata": {},
   "source": [
    "15. 通过键盘输入一个数字，若\n",
    "    1. 该数字位各个位上的数字和为奇数，则将该数各位数倒叙打印（如122（各个位上的数字之和为 1+2+2=5），打印 221）\n",
    "    2. 若该数字各个位数之和为偶数，则直接打印该数字"
   ]
  },
  {
   "cell_type": "code",
   "execution_count": 139,
   "metadata": {},
   "outputs": [
    {
     "name": "stdout",
     "output_type": "stream",
     "text": [
      "987654321\n"
     ]
    }
   ],
   "source": [
    "n=input('please input a number  ')\n",
    "nl=[]\n",
    "for i in n:\n",
    "    nl.append(int(i))\n",
    "if sum(nl)%2==0:\n",
    "    print(n)\n",
    "elif sum(nl)%2!=0:\n",
    "    print(n[::-1])"
   ]
  },
  {
   "cell_type": "code",
   "execution_count": 135,
   "metadata": {},
   "outputs": [
    {
     "name": "stdout",
     "output_type": "stream",
     "text": [
      "165654554321\n"
     ]
    }
   ],
   "source": [
    "n='123455456561'\n",
    "nl=[]\n",
    "for i in n:\n",
    "    nl.append(int(i))\n",
    "if sum(nl)%2==0:\n",
    "    print(n)\n",
    "elif sum(nl)%2!=0:\n",
    "    print(n[::-1])"
   ]
  }
 ],
 "metadata": {
  "kernelspec": {
   "display_name": "base",
   "language": "python",
   "name": "python3"
  },
  "language_info": {
   "codemirror_mode": {
    "name": "ipython",
    "version": 3
   },
   "file_extension": ".py",
   "mimetype": "text/x-python",
   "name": "python",
   "nbconvert_exporter": "python",
   "pygments_lexer": "ipython3",
   "version": "3.9.13"
  },
  "orig_nbformat": 4
 },
 "nbformat": 4,
 "nbformat_minor": 2
}
