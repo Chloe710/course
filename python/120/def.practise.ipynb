{
 "cells": [
  {
   "cell_type": "code",
   "execution_count": null,
   "metadata": {},
   "outputs": [],
   "source": [
    "def f(target, nums):\n",
    "    for i, num1 in enumerate(nums):\n",
    "        for j, num2 in enumerate(nums[i+1:], start=i+1):\n",
    "            if num1 + num2 == target:\n",
    "                return i, j\n",
    "result=f(target=18, nums=[9,4,5,7,19,15])\n",
    "if result is not None:\n",
    "    print(result)\n",
    "else:\n",
    "    print(\"未找到符合条件的元素对\")"
   ]
  },
  {
   "cell_type": "code",
   "execution_count": null,
   "metadata": {},
   "outputs": [],
   "source": [
    "def f(target, nums):\n",
    "    for i in range(len(nums)):\n",
    "        for j in range(i+1,len(nums)):\n",
    "            if nums[i] +nums[j]  == target:\n",
    "                return i, j\n",
    "result=f(target=8, nums=[4,4,9])\n",
    "if result is not None:\n",
    "    print(result)\n",
    "else:\n",
    "    print(\"未找到符合条件的元素对\")"
   ]
  },
  {
   "cell_type": "code",
   "execution_count": null,
   "metadata": {},
   "outputs": [],
   "source": [
    "def f(target, nums):\n",
    "    for i, num1 in enumerate(nums):\n",
    "        for j, num2 in enumerate(nums):\n",
    "            if num1 + num2 == target:\n",
    "                return i, j\n",
    "result=f(target=6, nums=[3,3])\n",
    "if result is not None:\n",
    "    print(result)\n",
    "else:\n",
    "    print(\"未找到符合条件的元素对\")\n"
   ]
  },
  {
   "cell_type": "code",
   "execution_count": null,
   "metadata": {},
   "outputs": [],
   "source": [
    "class Solution:\n",
    "    def isValidSudoku(self, board):\n",
    "        list_=[str(i) for i in range(1,10)]\n",
    "        list_2=[str(f) for f in range(list_[i])]\n",
    "        for l in board:\n",
    "            for i in list_:\n",
    "                c=list_.count(i)\n",
    "            if c!=0 and c!=1:\n",
    "                return False\n",
    "        for s in board:\n",
    "            for i in list_:\n",
    "                c=list_.count()\n",
    "            if c!=0 and c!=1:\n",
    "                return False\n",
    "\n"
   ]
  },
  {
   "cell_type": "code",
   "execution_count": null,
   "metadata": {},
   "outputs": [],
   "source": [
    "class Solution:\n",
    "    def isValidSudoku(self, board):\n",
    "        list_=[str(i) for i in range(1,10)]\n",
    "        \n",
    "        for l in board:\n",
    "            for i in l:\n",
    "                c=l.count(i)\n",
    "            if c!=0 and c!=1:\n",
    "                return False\n",
    "        for s in board:\n",
    "            for i in list_:\n",
    "                c=list_.count()\n",
    "            if c!=0 and c!=1:\n",
    "                return False\n",
    "\n"
   ]
  }
 ],
 "metadata": {
  "language_info": {
   "name": "python"
  },
  "orig_nbformat": 4
 },
 "nbformat": 4,
 "nbformat_minor": 2
}
