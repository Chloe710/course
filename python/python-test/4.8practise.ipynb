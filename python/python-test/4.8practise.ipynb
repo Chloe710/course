{
 "cells": [
  {
   "cell_type": "code",
   "execution_count": 7,
   "metadata": {},
   "outputs": [
    {
     "name": "stdout",
     "output_type": "stream",
     "text": [
      "95.125\n",
      "[91, 95, 92, 93]\n"
     ]
    }
   ],
   "source": [
    "import numpy as np\n",
    "scores =  [91, 95, 97, 99, 92, 93, 96, 98]  \n",
    "avg=np.mean(scores)\n",
    "below=[]\n",
    "print(avg)\n",
    "for i in scores:\n",
    "    if i < avg:\n",
    "        below.append(i)\n",
    "print(below)"
   ]
  },
  {
   "cell_type": "code",
   "execution_count": 8,
   "metadata": {},
   "outputs": [
    {
     "name": "stdout",
     "output_type": "stream",
     "text": [
      "21\n"
     ]
    }
   ],
   "source": [
    "# 定义一个函数 \n",
    "# 能够接收一个num的整数参数\n",
    "# 计算 1+2+.....num的结果\n",
    "def sum_numbers(num):\n",
    "    if num==1:\n",
    "       return 1 \n",
    "    temp=sum_numbers(num-1)\n",
    "    return num+temp\n",
    "result=sum_numbers(6)\n",
    "print(result)"
   ]
  },
  {
   "cell_type": "code",
   "execution_count": 9,
   "metadata": {},
   "outputs": [
    {
     "name": "stdout",
     "output_type": "stream",
     "text": [
      "Look!There is a new restaurant named Tongheju.\n",
      "The cuisine type here is chinese.\n",
      "Tongheju is now opening.\n",
      "Sushi Saito is japanese.\n",
      "The cuisine type here is japanese.\n",
      "L'Effervescence is french.\n",
      "The cuisine type here is french.\n"
     ]
    }
   ],
   "source": [
    "class Restaurant:\n",
    "    def __init__(self,restaurant_name,cuisine_type):\n",
    "        self.restaurant_name=restaurant_name\n",
    "        self.cuisine_type=cuisine_type\n",
    "    def describe_restaurant(self):\n",
    "        print(f'{self.restaurant_name} is {self.cuisine_type}.')\n",
    "    def open_restaurant(self):\n",
    "        print(f'{self.restaurant_name} is now opening.')\n",
    "\n",
    "restaurant1=Restaurant('Tongheju','chinese')\n",
    "\n",
    "print(f'Look!There is a new restaurant named {restaurant1.restaurant_name}.')\n",
    "print(f'The cuisine type here is {restaurant1.cuisine_type}.')  \n",
    "restaurant1.open_restaurant()\n",
    "\n",
    "restaurant2=Restaurant('Sushi Saito','japanese')\n",
    "restaurant2.describe_restaurant()\n",
    "print(f'The cuisine type here is {restaurant2.cuisine_type}.')  \n",
    "\n",
    "restaurant3=Restaurant(\"L'Effervescence\",'french')\n",
    "restaurant3.describe_restaurant()\n",
    "print(f'The cuisine type here is {restaurant3.cuisine_type}.')  \n"
   ]
  },
  {
   "cell_type": "code",
   "execution_count": null,
   "metadata": {},
   "outputs": [],
   "source": []
  },
  {
   "cell_type": "code",
   "execution_count": 10,
   "metadata": {},
   "outputs": [
    {
     "name": "stdout",
     "output_type": "stream",
     "text": [
      "4\n",
      "3\n",
      "2\n",
      "1\n"
     ]
    }
   ],
   "source": [
    "def sum_numbers(num):\n",
    "    print(num)\n",
    "    if num==1:\n",
    "       return \n",
    "    sum_numbers(num-1)\n",
    "   \n",
    "sum_numbers(4)\n"
   ]
  },
  {
   "cell_type": "code",
   "execution_count": 11,
   "metadata": {},
   "outputs": [
    {
     "name": "stdout",
     "output_type": "stream",
     "text": [
      "['ALICE', 'JERRY', 'WENDY', 'SMITH']\n"
     ]
    }
   ],
   "source": [
    "names=['Bob','Tom','alice','Jerry','Wendy','Smith']\n",
    "new_names=[name.upper()for name in names if len(name)>3]\n",
    "print(new_names)"
   ]
  },
  {
   "cell_type": "code",
   "execution_count": 12,
   "metadata": {},
   "outputs": [
    {
     "name": "stdout",
     "output_type": "stream",
     "text": [
      "[0, 3, 6, 9, 12, 15, 18, 21, 24, 27]\n"
     ]
    }
   ],
   "source": [
    "nums=[i for i in range(30) if i % 3==0]\n",
    "print(nums)"
   ]
  },
  {
   "cell_type": "code",
   "execution_count": 13,
   "metadata": {},
   "outputs": [
    {
     "name": "stdout",
     "output_type": "stream",
     "text": [
      "9\n"
     ]
    }
   ],
   "source": [
    "def my_len(words):\n",
    "    counti=0\n",
    "    for i in words:\n",
    "        counti+=1\n",
    "    return(counti)\n",
    "print( my_len('三根皮带，四斤大豆'))"
   ]
  },
  {
   "cell_type": "code",
   "execution_count": 14,
   "metadata": {},
   "outputs": [
    {
     "name": "stdout",
     "output_type": "stream",
     "text": [
      "{'Google': 6, 'Runoob': 6, 'Taobao': 6}\n"
     ]
    }
   ],
   "source": [
    "listdemo = ['Google','Runoob', 'Taobao']\n",
    "dicdemo={key:len(key) for key in listdemo}\n",
    "print(dicdemo)"
   ]
  },
  {
   "cell_type": "code",
   "execution_count": 15,
   "metadata": {},
   "outputs": [
    {
     "name": "stdout",
     "output_type": "stream",
     "text": [
      "{23: 529, 56: 3136, 88: 7744}\n"
     ]
    }
   ],
   "source": [
    "\n",
    "dict={num:num**2 for num in [23,56,88]}\n",
    "print(dict)"
   ]
  },
  {
   "cell_type": "code",
   "execution_count": 16,
   "metadata": {},
   "outputs": [],
   "source": [
    "rent = 3000\n",
    "\n",
    "def cost():\n",
    "    \n",
    "    utilities = int(input('请输入本月的水电费用'))\n",
    "    food_cost = int(input('请输入本月的食材费用'))\n",
    "    variable_cost = utilities + food_cost\n",
    "    print('本月的变动成本是' + str(variable_cost))\n",
    "    return variable_cost\n",
    "\n",
    "def sum_cost():\n",
    "    sum = rent + cost()\n",
    "    print('本月的总成本是' + str(sum))"
   ]
  },
  {
   "cell_type": "code",
   "execution_count": 17,
   "metadata": {},
   "outputs": [
    {
     "ename": "ValueError",
     "evalue": "invalid literal for int() with base 10: ''",
     "output_type": "error",
     "traceback": [
      "\u001b[1;31m---------------------------------------------------------------------------\u001b[0m",
      "\u001b[1;31mValueError\u001b[0m                                Traceback (most recent call last)",
      "\u001b[1;32m~\\AppData\\Local\\Temp\\ipykernel_13864\\2144229825.py\u001b[0m in \u001b[0;36m<module>\u001b[1;34m\u001b[0m\n\u001b[0;32m     11\u001b[0m     \u001b[0mmonth\u001b[0m\u001b[1;33m=\u001b[0m\u001b[0mint\u001b[0m\u001b[1;33m(\u001b[0m\u001b[0minput\u001b[0m\u001b[1;33m(\u001b[0m\u001b[1;34m'请问您一共入职了多少月份：'\u001b[0m\u001b[1;33m)\u001b[0m\u001b[1;33m)\u001b[0m\u001b[1;33m\u001b[0m\u001b[1;33m\u001b[0m\u001b[0m\n\u001b[0;32m     12\u001b[0m     \u001b[0mprint\u001b[0m\u001b[1;33m(\u001b[0m\u001b[1;34mf'{staff}来了{month}个月，获得奖金{wt(month)}'\u001b[0m\u001b[1;33m)\u001b[0m\u001b[1;33m\u001b[0m\u001b[1;33m\u001b[0m\u001b[0m\n\u001b[1;32m---> 13\u001b[1;33m \u001b[0maword\u001b[0m\u001b[1;33m(\u001b[0m\u001b[1;33m)\u001b[0m\u001b[1;33m\u001b[0m\u001b[1;33m\u001b[0m\u001b[0m\n\u001b[0m",
      "\u001b[1;32m~\\AppData\\Local\\Temp\\ipykernel_13864\\2144229825.py\u001b[0m in \u001b[0;36maword\u001b[1;34m()\u001b[0m\n\u001b[0;32m      9\u001b[0m \u001b[1;32mdef\u001b[0m \u001b[0maword\u001b[0m\u001b[1;33m(\u001b[0m\u001b[1;33m)\u001b[0m\u001b[1;33m:\u001b[0m\u001b[1;33m\u001b[0m\u001b[1;33m\u001b[0m\u001b[0m\n\u001b[0;32m     10\u001b[0m     \u001b[0mstaff\u001b[0m\u001b[1;33m=\u001b[0m\u001b[0minput\u001b[0m\u001b[1;33m(\u001b[0m\u001b[1;34m'请输入您的名字：'\u001b[0m\u001b[1;33m)\u001b[0m\u001b[1;33m\u001b[0m\u001b[1;33m\u001b[0m\u001b[0m\n\u001b[1;32m---> 11\u001b[1;33m     \u001b[0mmonth\u001b[0m\u001b[1;33m=\u001b[0m\u001b[0mint\u001b[0m\u001b[1;33m(\u001b[0m\u001b[0minput\u001b[0m\u001b[1;33m(\u001b[0m\u001b[1;34m'请问您一共入职了多少月份：'\u001b[0m\u001b[1;33m)\u001b[0m\u001b[1;33m)\u001b[0m\u001b[1;33m\u001b[0m\u001b[1;33m\u001b[0m\u001b[0m\n\u001b[0m\u001b[0;32m     12\u001b[0m     \u001b[0mprint\u001b[0m\u001b[1;33m(\u001b[0m\u001b[1;34mf'{staff}来了{month}个月，获得奖金{wt(month)}'\u001b[0m\u001b[1;33m)\u001b[0m\u001b[1;33m\u001b[0m\u001b[1;33m\u001b[0m\u001b[0m\n\u001b[0;32m     13\u001b[0m \u001b[0maword\u001b[0m\u001b[1;33m(\u001b[0m\u001b[1;33m)\u001b[0m\u001b[1;33m\u001b[0m\u001b[1;33m\u001b[0m\u001b[0m\n",
      "\u001b[1;31mValueError\u001b[0m: invalid literal for int() with base 10: ''"
     ]
    }
   ],
   "source": [
    "def wt(month):\n",
    "    if month<6:\n",
    "        bonus=500\n",
    "    elif 6<month<12:\n",
    "        bonus=(120*month)\n",
    "    else:\n",
    "        bonus=(180*month)\n",
    "    return(bonus)       \n",
    "def aword():\n",
    "    staff=input('请输入您的名字：')\n",
    "    month=int(input('请问您一共入职了多少月份：'))\n",
    "    print(f'{staff}来了{month}个月，获得奖金{wt(month)}')\n",
    "aword()\n"
   ]
  },
  {
   "cell_type": "code",
   "execution_count": null,
   "metadata": {},
   "outputs": [
    {
     "data": {
      "text/plain": [
       "(0, 1)"
      ]
     },
     "execution_count": 77,
     "metadata": {},
     "output_type": "execute_result"
    }
   ],
   "source": [
    "def f(target, nums):\n",
    "    for i, num1 in enumerate(nums):\n",
    "        for j, num2 in enumerate(nums[i+1:], start=i+1):\n",
    "            if num1 + num2 == target:\n",
    "                return i, j\n",
    "    return None\n",
    "    \n",
    "result = f(target=6, nums=[3,3])\n",
    "\n",
    "if result is not None:\n",
    "    print(result)\n",
    "else:\n",
    "    print(\"未找到符合条件的元素对\")"
   ]
  },
  {
   "cell_type": "code",
   "execution_count": null,
   "metadata": {},
   "outputs": [
    {
     "data": {
      "text/plain": [
       "(0, 1)"
      ]
     },
     "execution_count": 32,
     "metadata": {},
     "output_type": "execute_result"
    }
   ],
   "source": [
    "def f(target, nums):\n",
    "    for i, num1 in enumerate(nums):\n",
    "        for j, num2 in enumerate(nums[i+1:], start=i+1):\n",
    "            if num1 + num2 == target:\n",
    "                return i, j\n",
    "    return None\n",
    "    \n",
    "f(target=6, nums=[3,3])"
   ]
  },
  {
   "cell_type": "code",
   "execution_count": null,
   "metadata": {},
   "outputs": [
    {
     "data": {
      "text/plain": [
       "(0, 1)"
      ]
     },
     "execution_count": 35,
     "metadata": {},
     "output_type": "execute_result"
    }
   ],
   "source": [
    "def f(target,nums):\n",
    "    for i,num1 in enumerate(nums) :\n",
    "        for j,num2 in enumerate(nums[i+1:],start=i+1) :\n",
    "            if num1+num2==target:\n",
    "                return i,j\n",
    "    return None\n",
    "                \n",
    "f(target=6,nums=[3,3])"
   ]
  },
  {
   "cell_type": "code",
   "execution_count": null,
   "metadata": {},
   "outputs": [
    {
     "name": "stdout",
     "output_type": "stream",
     "text": [
      "本月的利润增长率为：22.249663224068254%\n"
     ]
    }
   ],
   "source": [
    "def div(num1,num2):\n",
    "    growth=(num1-num2)/num2\n",
    "    percent=str(growth*100)+'%'\n",
    "    return(percent)\n",
    "def warning():\n",
    "    print('你确定上个月没有利润吗？')\n",
    "def main():\n",
    "    while True:\n",
    "        num1=float(input('请输入本月的利润'))\n",
    "        num2=float(input('请输入上个月的利润'))\n",
    "        if num2==0:\n",
    "            warning()\n",
    "        else:\n",
    "            print('本月的利润增长率为：'+div(num1,num2))\n",
    "            break\n",
    "main()"
   ]
  },
  {
   "cell_type": "code",
   "execution_count": null,
   "metadata": {},
   "outputs": [
    {
     "name": "stdout",
     "output_type": "stream",
     "text": [
      "4\n"
     ]
    }
   ],
   "source": [
    "import math\n",
    "x=3.134\n",
    "y=math.ceil(x)\n",
    "print(y)"
   ]
  },
  {
   "cell_type": "code",
   "execution_count": null,
   "metadata": {},
   "outputs": [
    {
     "ename": "SyntaxError",
     "evalue": "invalid syntax (2940981645.py, line 5)",
     "output_type": "error",
     "traceback": [
      "\u001b[1;36m  File \u001b[1;32m\"C:\\Users\\Chloe\\AppData\\Local\\Temp\\ipykernel_26608\\2940981645.py\"\u001b[1;36m, line \u001b[1;32m5\u001b[0m\n\u001b[1;33m    if type=1:\u001b[0m\n\u001b[1;37m           ^\u001b[0m\n\u001b[1;31mSyntaxError\u001b[0m\u001b[1;31m:\u001b[0m invalid syntax\n"
     ]
    }
   ],
   "source": [
    "import math\n",
    "\n",
    "def estimated(type,size,number,time):\n",
    "\n",
    "    if type=1:\n",
    "        number = math.ceil((size * 80 )/ time)\n",
    "        print('项目大小为%.1f个标准项目，如果需要在%.1f个工时完成，则需要人力数量为：%d人' %(size,time,number))  \n",
    "\n",
    "    elif type=2:\n",
    "        time = size * 80 / number\n",
    "        print('项目大小为%.1f个标准项目，使用%d个人力完成,则需要工时数量为：%.1f个' %(size,number,time))  \n",
    "\n",
    "\n",
    "estimated(type=1,size=1.5,number=2)\n",
    "estimated(type=2,size=0.5,time=20.0)"
   ]
  },
  {
   "cell_type": "code",
   "execution_count": null,
   "metadata": {},
   "outputs": [
    {
     "name": "stdout",
     "output_type": "stream",
     "text": [
      "{'od': {'od0': '202109291100', ' od1': '青岛', 'od2': [{'od21': '11', ' od22': '23', 'od23': '323', 'od24': '西北风', 'od25': '3', 'od26': '0', 'od27': '71', 'od28': ''}, {'od21 ': '10', 'od22': '22', 'od23': '332', 'od24': '西北风', 'od25': '3', 'od26': '0.1 ', 'od27': '75', 'od28': '33'}]}}\n",
      "{'od0': '202109291100', ' od1': '青岛', 'od2': [{'od21': '11', ' od22': '23', 'od23': '323', 'od24': '西北风', 'od25': '3', 'od26': '0', 'od27': '71', 'od28': ''}, {'od21 ': '10', 'od22': '22', 'od23': '332', 'od24': '西北风', 'od25': '3', 'od26': '0.1 ', 'od27': '75', 'od28': '33'}]}\n"
     ]
    },
    {
     "data": {
      "text/plain": [
       "'0'"
      ]
     },
     "execution_count": 61,
     "metadata": {},
     "output_type": "execute_result"
    }
   ],
   "source": [
    "import json\n",
    "data1='实例:var observe24h_data= { \"od\" : {\"od0\" : \"202109291100\", \" od1\":\"青岛\",\"od2\" :[{\"od21\" : \"11\", \" od22\" : \"23\", \"od23\" : \"323\", \"od24\" :\"西北风\" ,\"od25\" : \"3\", \"od26\" : \"0\", \"od27\" : \"71\",\"od28\" :\"\"},{\"od21 \" : \"10\", \"od22\" : \"22\", \"od23\" : \"332\",\"od24\" : \"西北风\", \"od25\" : \"3\", \"od26\" : \"0.1 \", \"od27\" : \"75\", \"od28\" : \"33\"}]}};'\n",
    "data2=data1.split('=')[1].replace(';','').replace(' ','',2)\n",
    "data=json.loads(data2)\n",
    "print(data)\n",
    "for value in data.values():\n",
    "    print(value)\n",
    "data.get('od').get('od2')[0].get('od26')"
   ]
  },
  {
   "cell_type": "code",
   "execution_count": null,
   "metadata": {},
   "outputs": [],
   "source": [
    "def l_median(your_list):\n",
    "    your_list=[]\n",
    "    median=0\n",
    "    if len(your_list)%2==0:\n",
    "\t    med_index=len(your_list)//2\n",
    "            \n",
    "    else:\n",
    "        med_index=(len(your_list)//2)+1\n",
    "    \n",
    "    median=your_list[med_index]\n",
    "    return(median)\n",
    "   \n",
    "l_median(your_list=[1,2,3])\n",
    "\n",
    "\n",
    "\n"
   ]
  },
  {
   "cell_type": "code",
   "execution_count": null,
   "metadata": {},
   "outputs": [
    {
     "name": "stdout",
     "output_type": "stream",
     "text": [
      "There is a new restaurant named Tongheju\n",
      "The  cuisine type here  is chinese\n",
      "The cuisine type here is chinese\n",
      "Tongheju is now opening.\n"
     ]
    }
   ],
   "source": [
    "class Res:\n",
    "    def __init__(self,res_name,cuisine_type):\n",
    "        self.res_name=res_name\n",
    "        self.cuisine_type= cuisine_type\n",
    "    def desc_res(self):\n",
    "        print(f'The cuisine type here is {self.cuisine_type}')\n",
    "    def open_res(self):\n",
    "        print(f'{self.res_name} is now opening.')\n",
    "restaurant=Res('Tongheju','chinese')\n",
    "print(f'There is a new restaurant named {restaurant.res_name}')\n",
    "print(f'The  cuisine type here  is {restaurant.cuisine_type}')\n",
    "restaurant.desc_res()\n",
    "restaurant.open_res()"
   ]
  },
  {
   "cell_type": "code",
   "execution_count": null,
   "metadata": {},
   "outputs": [
    {
     "name": "stdout",
     "output_type": "stream",
     "text": [
      "There is a new icecream stand named Tims\n",
      "The  cuisine type here  is chinese\n"
     ]
    },
    {
     "ename": "AttributeError",
     "evalue": "'IceCreamStand' object has no attribute 'self'",
     "output_type": "error",
     "traceback": [
      "\u001b[1;31m---------------------------------------------------------------------------\u001b[0m",
      "\u001b[1;31mAttributeError\u001b[0m                            Traceback (most recent call last)",
      "\u001b[1;32m~\\AppData\\Local\\Temp\\ipykernel_11392\\1825286939.py\u001b[0m in \u001b[0;36m<module>\u001b[1;34m\u001b[0m\n\u001b[0;32m     29\u001b[0m \u001b[1;31m# icecreamstand.open_res()\u001b[0m\u001b[1;33m\u001b[0m\u001b[1;33m\u001b[0m\u001b[0m\n\u001b[0;32m     30\u001b[0m \u001b[1;31m# icecreamstand=IceCreamStand([peach,chocolate,vanilla,curry,durian])\u001b[0m\u001b[1;33m\u001b[0m\u001b[1;33m\u001b[0m\u001b[0m\n\u001b[1;32m---> 31\u001b[1;33m \u001b[0micecreamstand\u001b[0m\u001b[1;33m.\u001b[0m\u001b[0mself\u001b[0m\u001b[1;33m.\u001b[0m\u001b[0mflavors\u001b[0m\u001b[1;33m\u001b[0m\u001b[1;33m\u001b[0m\u001b[0m\n\u001b[0m",
      "\u001b[1;31mAttributeError\u001b[0m: 'IceCreamStand' object has no attribute 'self'"
     ]
    }
   ],
   "source": [
    "class Res:\n",
    "    def __init__(self,res_name,cuisine_type):\n",
    "        self.res_name=res_name\n",
    "        self.cuisine_type= cuisine_type\n",
    "        #添加number_serve属性\n",
    "        # self.number_served=0\n",
    "\n",
    "    def desc_res(self):\n",
    "        print(f'The cuisine type here is {self.cuisine_type}')\n",
    "    def open_res(self):\n",
    "        print(f'{self.res_name} is now opening.')\n",
    "\n",
    "    # def set_number_served(self):\n",
    "    #     self.set_number_served=set_number_served=20\n",
    "    #     print(f'This restaurant can serve {set_number_served} customers each day .')\n",
    "\n",
    "class IceCreamStand(Res):\n",
    "    def __init__(self,res_name,cuisine_type):\n",
    "        super().__init__(res_name,cuisine_type)\n",
    "        # self.flavors=flavors\n",
    "    def flavors(self):\n",
    "        # flavors=['peach','chocolate','vanilla','curry','durian']\n",
    "        print(f'There are several flavors here,such as {self.flavors}')\n",
    "        \n",
    "icecreamstand=IceCreamStand('Tims','chinese')\n",
    "print(f'There is a new icecream stand named {icecreamstand.res_name}')\n",
    "print(f'The  cuisine type here  is {icecreamstand.cuisine_type}')\n",
    "# # icecreamstand.desc_res()\n",
    "# icecreamstand.open_res()\n",
    "# icecreamstand=IceCreamStand([peach,chocolate,vanilla,curry,durian])\n",
    "icecreamstand.self.flavors"
   ]
  },
  {
   "cell_type": "code",
   "execution_count": null,
   "metadata": {},
   "outputs": [],
   "source": []
  },
  {
   "cell_type": "code",
   "execution_count": null,
   "metadata": {},
   "outputs": [
    {
     "name": "stdout",
     "output_type": "stream",
     "text": [
      "2019 Audi A4\n",
      "This car has 0 miles on it.\n"
     ]
    }
   ],
   "source": [
    "class Car:\n",
    "    def __init__(self,make,model,year):\n",
    "        self.make=make\n",
    "        self.model=model\n",
    "        self.year=year\n",
    "        self.odometer_reading=0\n",
    "    def get_descriptive_name(self):\n",
    "        long_name=f'{self.year} {self.make} {self.model}'\n",
    "        return long_name.title()\n",
    "    def read_odometer(self):\n",
    "        print(f'This car has {self.odometer_reading} miles on it.')\n",
    "\n",
    "my_new_car=Car('audi','a4',2019)\n",
    "print(my_new_car.get_descriptive_name())\n",
    "my_new_car.read_odometer()"
   ]
  },
  {
   "cell_type": "code",
   "execution_count": null,
   "metadata": {},
   "outputs": [
    {
     "name": "stdout",
     "output_type": "stream",
     "text": [
      "2019 Audi A4\n",
      "This car has 23 miles on it.\n"
     ]
    }
   ],
   "source": [
    "#修改属性的值\n",
    "# 1.直接修改属性\n",
    "class Car:\n",
    "    def __init__(self,make,model,year):\n",
    "        self.make=make\n",
    "        self.model=model\n",
    "        self.year=year\n",
    "        self.odometer_reading=0\n",
    "    def get_descriptive_name(self):\n",
    "        long_name=f'{self.year} {self.make} {self.model}'\n",
    "        return long_name.title()\n",
    "    def read_odometer(self):\n",
    "        print(f'This car has {self.odometer_reading} miles on it.')\n",
    "\n",
    "my_new_car=Car('audi','a4',2019)\n",
    "print(my_new_car.get_descriptive_name())\n",
    "\n",
    "# 这里直接修改了属性中的值，原本是0，现在改成了23\n",
    "# self.odometer_reading=0\n",
    "my_new_car.odometer_reading=23\n",
    "my_new_car.read_odometer()"
   ]
  },
  {
   "cell_type": "code",
   "execution_count": null,
   "metadata": {},
   "outputs": [
    {
     "name": "stdout",
     "output_type": "stream",
     "text": [
      "2019 Audi A4\n",
      "This car has 23 miles on it.\n"
     ]
    }
   ],
   "source": [
    "# 通过方法修改属性的值\n",
    "class Car:\n",
    "    def __init__(self,make,model,year):\n",
    "        self.make=make\n",
    "        self.model=model\n",
    "        self.year=year\n",
    "        self.odometer_reading=0\n",
    "    def get_descriptive_name(self):\n",
    "        long_name=f'{self.year} {self.make} {self.model}'\n",
    "        return long_name.title()\n",
    "    def read_odometer(self):\n",
    "        print(f'This car has {self.odometer_reading} miles on it.')\n",
    "        \n",
    "    #新添加了一个方法，\n",
    "    def update_odommeter(self,mileage):\n",
    "        self.odometer_reading=mileage  ##在新方法中修改初始方法中的属性值，通过对新方法传参修改\n",
    "\n",
    "\n",
    "my_new_car=Car('audi','a4',2019)\n",
    "print(my_new_car.get_descriptive_name())\n",
    "\n",
    "# 这里直接给新方法进行传参 \n",
    "# self.odometer_reading=0\n",
    "my_new_car.update_odommeter(23)\n",
    "my_new_car.read_odometer()"
   ]
  },
  {
   "cell_type": "code",
   "execution_count": null,
   "metadata": {},
   "outputs": [
    {
     "name": "stdout",
     "output_type": "stream",
     "text": [
      "2015 Subaru Outback\n",
      "This car has 23500 miles on it.\n",
      "This car has 23600 miles on it.\n"
     ]
    }
   ],
   "source": [
    "# 通过方法对属性的值递增\n",
    "class Car:\n",
    "    def __init__(self,make,model,year):\n",
    "        self.make=make\n",
    "        self.model=model\n",
    "        self.year=year\n",
    "        self.odometer_reading=0\n",
    "    def get_descriptive_name(self):\n",
    "        long_name=f'{self.year} {self.make} {self.model}'\n",
    "        return long_name.title()\n",
    "    def read_odometer(self):\n",
    "        print(f'This car has {self.odometer_reading} miles on it.')\n",
    "    def update_odommeter(self,mileage):\n",
    "        self.odometer_reading=mileage \n",
    "        \n",
    "        #从这里开始修改递增，将里程表读数增加指定的量，即#从购买到登记期间增加了100英里\n",
    "    def increment_odometer(self,miles):\n",
    "        self.odometer_reading+=miles\n",
    "\n",
    "my_used_car=Car('subaru','outback',2015)\n",
    "print(my_used_car.get_descriptive_name())\n",
    "\n",
    "my_used_car.update_odommeter(23_500)\n",
    "my_used_car.read_odometer()\n",
    "# 从购买到登记期间增加了100英里\n",
    "my_used_car. increment_odometer(100)\n",
    "my_used_car.read_odometer()"
   ]
  },
  {
   "cell_type": "code",
   "execution_count": null,
   "metadata": {},
   "outputs": [
    {
     "name": "stdout",
     "output_type": "stream",
     "text": [
      "2019 Tesla Models\n",
      "This car has a 75-kwh battery.\n"
     ]
    }
   ],
   "source": [
    "class Car:\n",
    "    def __init__(self,make,model,year):\n",
    "        self.make=make\n",
    "        self.model=model\n",
    "        self.year=year\n",
    "        self.odometer_reading=0\n",
    "    def get_descriptive_name(self):\n",
    "        long_name=f'{self.year} {self.make} {self.model}'\n",
    "        return long_name.title()\n",
    "    def read_odometer(self):\n",
    "        print(f'This car has {self.odometer_reading} miles on it.')\n",
    "    def update_odommeter(self,mileage):\n",
    "        self.odometer_reading=mileage \n",
    "        \n",
    "        #从这里开始修改递增，将里程表读数增加指定的量，即#从购买到登记期间增加了100英里\n",
    "    def increment_odometer(self,miles):\n",
    "        self.odometer_reading+=miles\n",
    "\n",
    "    def describe_battery(self):\n",
    "        print(f'This car has a {self.battery_size}-kwh battery.')\n",
    "\n",
    "class ElectircCar(Car):\n",
    "    def __init__(self,make,model,year):\n",
    "        super().__init__(make,model,year)\n",
    "    \n",
    "    def describe_battery(self):\n",
    "        print(f'This car has a {self.battery_size}-kwh battery.')\n",
    "\n",
    "\n",
    "my_tesla=ElectircCar('tesla','models',2019)\n",
    "print(my_tesla.get_descriptive_name())\n",
    "my_tesla.describe_battery()\n"
   ]
  },
  {
   "cell_type": "code",
   "execution_count": null,
   "metadata": {},
   "outputs": [
    {
     "name": "stdout",
     "output_type": "stream",
     "text": [
      "2019 Tesla Models\n",
      "This car has a 75-kwh battery.\n"
     ]
    }
   ],
   "source": [
    "class Car:\n",
    "    def __init__(self,make,model,year):\n",
    "        self.make=make\n",
    "        self.model=model\n",
    "        self.year=year\n",
    "        self.odometer_reading=0\n",
    "    def get_descriptive_name(self):\n",
    "        long_name=f'{self.year} {self.make} {self.model}'\n",
    "        return long_name.title()\n",
    "    def read_odometer(self):\n",
    "        print(f'This car has {self.odometer_reading} miles on it.')\n",
    "    def update_odommeter(self,mileage):\n",
    "        self.odometer_reading=mileage \n",
    "        \n",
    "        #从这里开始修改递增，将里程表读数增加指定的量，即#从购买到登记期间增加了100英里\n",
    "    def increment_odometer(self,miles):\n",
    "        self.odometer_reading+=miles\n",
    "class Battery:\n",
    "    def __init__(self,battery_size=75) :\n",
    "        self.battery_size=battery_size\n",
    "\n",
    "    def describe_battery(self):\n",
    "        print(f'This car has a {self.battery_size}-kwh battery.')\n",
    "\n",
    "class ElectircCar(Car):\n",
    "    def __init__(self,make,model,year):\n",
    "        super().__init__(make,model,year)\n",
    "        self.battery=Battery()\n",
    "\n",
    "\n",
    "my_tesla=ElectircCar('tesla','models',2019)\n",
    "print(my_tesla.get_descriptive_name())\n",
    "my_tesla.battery.describe_battery()"
   ]
  },
  {
   "cell_type": "code",
   "execution_count": 21,
   "metadata": {},
   "outputs": [
    {
     "name": "stdout",
     "output_type": "stream",
     "text": [
      "2019 Tesla Models\n",
      "This car has a 75-kwh battery.\n",
      "This car can go about 260 miles on a full charge.\n"
     ]
    }
   ],
   "source": [
    "class Car:\n",
    "    def __init__(self,make,model,year):\n",
    "        self.make=make\n",
    "        self.model=model\n",
    "        self.year=year\n",
    "        self.odometer_reading=0\n",
    "    def get_descriptive_name(self):\n",
    "        long_name=f'{self.year} {self.make} {self.model}'\n",
    "        return long_name.title()\n",
    "    def read_odometer(self):\n",
    "        print(f'This car has {self.odometer_reading} miles on it.')\n",
    "    def update_odommeter(self,mileage):\n",
    "        self.odometer_reading=mileage \n",
    "        \n",
    "        #从这里开始修改递增，将里程表读数增加指定的量，即#从购买到登记期间增加了100英里\n",
    "    def increment_odometer(self,miles):\n",
    "        self.odometer_reading+=miles\n",
    "class Battery:\n",
    "    def __init__(self,battery_size=75) :\n",
    "        self.battery_size=battery_size\n",
    "\n",
    "    def describe_battery(self):\n",
    "        print(f'This car has a {self.battery_size}-kwh battery.')\n",
    "\n",
    "    def get_range(self):\n",
    "        if self.battery_size==75:\n",
    "           range=260\n",
    "        elif self.battery_size==100:\n",
    "            range=315\n",
    "        print(f'This car can go about {range} miles on a full charge.')\n",
    "class ElectircCar(Car):\n",
    "    def __init__(self,make,model,year):\n",
    "        super().__init__(make,model,year)\n",
    "        self.battery=Battery()\n",
    "\n",
    "\n",
    " \n",
    "\n",
    "my_tesla=ElectircCar('tesla','models',2019)\n",
    "print(my_tesla.get_descriptive_name())\n",
    "my_tesla.battery.describe_battery()\n",
    "my_tesla.battery.get_range()"
   ]
  },
  {
   "cell_type": "code",
   "execution_count": 19,
   "metadata": {},
   "outputs": [
    {
     "name": "stdout",
     "output_type": "stream",
     "text": [
      "[1 2 3]\n"
     ]
    },
    {
     "data": {
      "text/plain": [
       "numpy.ndarray"
      ]
     },
     "execution_count": 19,
     "metadata": {},
     "output_type": "execute_result"
    }
   ],
   "source": []
  },
  {
   "cell_type": "markdown",
   "metadata": {},
   "source": []
  },
  {
   "cell_type": "code",
   "execution_count": 22,
   "metadata": {},
   "outputs": [
    {
     "name": "stdout",
     "output_type": "stream",
     "text": [
      "[1. 2. 3.]\n"
     ]
    },
    {
     "data": {
      "text/plain": [
       "numpy.ndarray"
      ]
     },
     "execution_count": 22,
     "metadata": {},
     "output_type": "execute_result"
    }
   ],
   "source": []
  },
  {
   "cell_type": "code",
   "execution_count": 33,
   "metadata": {},
   "outputs": [
    {
     "data": {
      "text/plain": [
       "'float64'"
      ]
     },
     "execution_count": 33,
     "metadata": {},
     "output_type": "execute_result"
    }
   ],
   "source": []
  },
  {
   "cell_type": "code",
   "execution_count": null,
   "metadata": {},
   "outputs": [],
   "source": [
    "def sum_numbers(num):\n",
    "    if num==1:\n",
    "        return\n",
    "    sum_numbers"
   ]
  },
  {
   "cell_type": "code",
   "execution_count": 2,
   "metadata": {},
   "outputs": [
    {
     "name": "stdout",
     "output_type": "stream",
     "text": [
      "2\n",
      "4\n",
      "6\n",
      "8\n",
      "10\n",
      "打印完成\n"
     ]
    }
   ],
   "source": [
    "i=1\n",
    "while i<=10:\n",
    "    if i%2==0:\n",
    "        print(i)\n",
    "    elif i%4==0:\n",
    "        print(i)\n",
    "    i +=1\n",
    "else:\n",
    "    print('打印完成')"
   ]
  },
  {
   "cell_type": "code",
   "execution_count": 3,
   "metadata": {},
   "outputs": [
    {
     "name": "stdout",
     "output_type": "stream",
     "text": [
      "摄氏温度\t华氏温度\n",
      "0\t\t32.0\n",
      "20\t\t68.0\n",
      "40\t\t104.0\n",
      "60\t\t140.0\n",
      "80\t\t176.0\n",
      "100\t\t212.0\n",
      "120\t\t248.0\n",
      "140\t\t284.0\n",
      "160\t\t320.0\n",
      "180\t\t356.0\n"
     ]
    }
   ],
   "source": [
    "c=0\n",
    "count=1\n",
    "print('摄氏温度\\t华氏温度')\n",
    "while c<=250 and count<=10:\n",
    "    h=c*9/5+32\n",
    "    print(f'{c}\\t\\t{h}') \n",
    "    c+=20 \n",
    "    count+=1\n"
   ]
  },
  {
   "cell_type": "code",
   "execution_count": 5,
   "metadata": {},
   "outputs": [
    {
     "name": "stdout",
     "output_type": "stream",
     "text": [
      "8years passed,hong is 20 years old,father is 40 years old, father`s age is twice of hong\n"
     ]
    }
   ],
   "source": [
    "hong=12\n",
    "father=hong+20\n",
    "sum=0\n",
    "while True:\n",
    "    if hong *2==father:\n",
    "        break\n",
    "   \n",
    "    hong +=1\n",
    "    father+=1\n",
    "    sum+=1\n",
    "print(f'{sum}years passed,hong is {hong} years old,father is {father} years old, father`s age is twice of hong')"
   ]
  },
  {
   "cell_type": "code",
   "execution_count": 10,
   "metadata": {},
   "outputs": [
    {
     "name": "stdout",
     "output_type": "stream",
     "text": [
      "\n",
      "        实例:var observe24h_data= { \"od\" : {\"od0\" : \"202109291100\", \" od1\":\"青岛\",\n",
      "        \"od2\" :[{\"od21\" : \"11\", \" od22\" : \"23\", \"od23\" : \"323\", \"od24\" :\"西北风\" ,\n",
      "        \"od25\" : \"3\", \"od26\" : \"0\", \"od27\" : \"71\",\"od28\" :\"\"},{\"od21 \" : \"10\", \n",
      "        \"od22\" : \"22\", \"od23\" : \"332\",\"od24\" : \"西北风\", \"od25\" : \"3\", \"od26\" : \"0.1 \", \"od27\" : \"75\",\n",
      "         \"od28\" : \"33\"}]}};\n",
      "      \n"
     ]
    }
   ],
   "source": [
    "data1='''\n",
    "        实例:var observe24h_data= { \"od\" : {\"od0\" : \"202109291100\", \" od1\":\"青岛\",\n",
    "        \"od2\" :[{\"od21\" : \"11\", \" od22\" : \"23\", \"od23\" : \"323\", \"od24\" :\"西北风\" ,\n",
    "        \"od25\" : \"3\", \"od26\" : \"0\", \"od27\" : \"71\",\"od28\" :\"\"},{\"od21 \" : \"10\", \n",
    "        \"od22\" : \"22\", \"od23\" : \"332\",\"od24\" : \"西北风\", \"od25\" : \"3\", \"od26\" : \"0.1 \", \"od27\" : \"75\",\n",
    "         \"od28\" : \"33\"}]}};\n",
    "      '''\n",
    "print(data1)"
   ]
  },
  {
   "cell_type": "code",
   "execution_count": 6,
   "metadata": {},
   "outputs": [
    {
     "name": "stdout",
     "output_type": "stream",
     "text": [
      "The factorial of 7 is 5040\n"
     ]
    }
   ],
   "source": [
    "while True:\n",
    "    n=int(input('please input a number:'))\n",
    "    factorial=1\n",
    "    if 3<=n<=15:\n",
    "        for i in range(1,n+1):\n",
    "            factorial*=i\n",
    "\n",
    "        print(f'The factorial of {n} is {factorial}')\n",
    "        break\n",
    "    else:\n",
    "        input('You have input a wrong answer,please input a number:')\n",
    "          \n"
   ]
  },
  {
   "cell_type": "code",
   "execution_count": 1,
   "metadata": {},
   "outputs": [
    {
     "data": {
      "text/plain": [
       "5040"
      ]
     },
     "execution_count": 1,
     "metadata": {},
     "output_type": "execute_result"
    }
   ],
   "source": [
    "def factorial(n):\n",
    "    if n==0:\n",
    "        return 1\n",
    "    else:\n",
    "        return n* factorial(n-1)\n",
    "   \n",
    "factorial(int(input('please input a number:')))"
   ]
  },
  {
   "cell_type": "code",
   "execution_count": 2,
   "metadata": {},
   "outputs": [
    {
     "name": "stdout",
     "output_type": "stream",
     "text": [
      "5040\n"
     ]
    }
   ],
   "source": [
    "import math\n",
    "n=int(input('please input a number:'))\n",
    "f=math.factorial(n)\n",
    "print(f)"
   ]
  },
  {
   "cell_type": "code",
   "execution_count": 9,
   "metadata": {},
   "outputs": [
    {
     "ename": "ValueError",
     "evalue": "invalid literal for int() with base 10: ''",
     "output_type": "error",
     "traceback": [
      "\u001b[1;31m---------------------------------------------------------------------------\u001b[0m",
      "\u001b[1;31mValueError\u001b[0m                                Traceback (most recent call last)",
      "\u001b[1;32m~\\AppData\\Local\\Temp\\ipykernel_15408\\464815234.py\u001b[0m in \u001b[0;36m<module>\u001b[1;34m\u001b[0m\n\u001b[0;32m      6\u001b[0m         \u001b[1;32mreturn\u001b[0m \u001b[0mf\u001b[0m\u001b[1;33m\u001b[0m\u001b[1;33m\u001b[0m\u001b[0m\n\u001b[0;32m      7\u001b[0m \u001b[1;32mwhile\u001b[0m \u001b[1;32mTrue\u001b[0m\u001b[1;33m:\u001b[0m\u001b[1;33m\u001b[0m\u001b[1;33m\u001b[0m\u001b[0m\n\u001b[1;32m----> 8\u001b[1;33m     \u001b[0mfactorial\u001b[0m\u001b[1;33m(\u001b[0m\u001b[0mint\u001b[0m\u001b[1;33m(\u001b[0m\u001b[0minput\u001b[0m\u001b[1;33m(\u001b[0m\u001b[1;34m'please input a number in range 3 to 15:'\u001b[0m\u001b[1;33m)\u001b[0m\u001b[1;33m)\u001b[0m\u001b[1;33m)\u001b[0m\u001b[1;33m\u001b[0m\u001b[1;33m\u001b[0m\u001b[0m\n\u001b[0m\u001b[0;32m      9\u001b[0m     \u001b[1;32mif\u001b[0m \u001b[1;36m3\u001b[0m\u001b[1;33m<\u001b[0m\u001b[0mn\u001b[0m\u001b[1;33m<\u001b[0m\u001b[1;36m15\u001b[0m\u001b[1;33m:\u001b[0m\u001b[1;33m\u001b[0m\u001b[1;33m\u001b[0m\u001b[0m\n\u001b[0;32m     10\u001b[0m         \u001b[0mprint\u001b[0m\u001b[1;33m(\u001b[0m\u001b[1;34mf'The factorial of {n} is {f}'\u001b[0m\u001b[1;33m)\u001b[0m\u001b[1;33m\u001b[0m\u001b[1;33m\u001b[0m\u001b[0m\n",
      "\u001b[1;31mValueError\u001b[0m: invalid literal for int() with base 10: ''"
     ]
    }
   ],
   "source": [
    "def factorial(n):\n",
    "    if n==0:\n",
    "        return 1\n",
    "    else:\n",
    "        f=n* factorial(n-1)\n",
    "        return f\n",
    "while True:  \n",
    "    factorial(int(input('please input a number in range 3 to 15:')))\n",
    "    if 3<n<15:\n",
    "        print(f'The factorial of {n} is {f}')\n",
    "        break\n",
    "    else:\n",
    "        factorial(int(input('You have input a wrong answer,please input a number in range 3 to 15:')))"
   ]
  }
 ],
 "metadata": {
  "kernelspec": {
   "display_name": "base",
   "language": "python",
   "name": "python3"
  },
  "language_info": {
   "codemirror_mode": {
    "name": "ipython",
    "version": 3
   },
   "file_extension": ".py",
   "mimetype": "text/x-python",
   "name": "python",
   "nbconvert_exporter": "python",
   "pygments_lexer": "ipython3",
   "version": "3.9.13"
  },
  "orig_nbformat": 4
 },
 "nbformat": 4,
 "nbformat_minor": 2
}
