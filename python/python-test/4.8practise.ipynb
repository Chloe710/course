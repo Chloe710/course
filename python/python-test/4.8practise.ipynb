{
 "cells": [
  {
   "cell_type": "code",
   "execution_count": 6,
   "metadata": {},
   "outputs": [
    {
     "name": "stdout",
     "output_type": "stream",
     "text": [
      "95.125\n",
      "[91, 95, 92, 93]\n"
     ]
    }
   ],
   "source": [
    "import numpy as np\n",
    "scores =  [91, 95, 97, 99, 92, 93, 96, 98]  \n",
    "avg=np.mean(scores)\n",
    "below=[]\n",
    "print(avg)\n",
    "for i in scores:\n",
    "    if i < avg:\n",
    "        below.append(i)\n",
    "print(below)"
   ]
  },
  {
   "cell_type": "code",
   "execution_count": 7,
   "metadata": {},
   "outputs": [
    {
     "name": "stdout",
     "output_type": "stream",
     "text": [
      "['ALICE', 'JERRY', 'WENDY', 'SMITH']\n"
     ]
    }
   ],
   "source": [
    "names=['Bob','Tom','alice','Jerry','Wendy','Smith']\n",
    "new_names=[name.upper()for name in names if len(name)>3]\n",
    "print(new_names)"
   ]
  },
  {
   "cell_type": "code",
   "execution_count": 8,
   "metadata": {},
   "outputs": [
    {
     "name": "stdout",
     "output_type": "stream",
     "text": [
      "[0, 3, 6, 9, 12, 15, 18, 21, 24, 27]\n"
     ]
    }
   ],
   "source": [
    "nums=[i for i in range(30) if i % 3==0]\n",
    "print(nums)"
   ]
  },
  {
   "cell_type": "code",
   "execution_count": 14,
   "metadata": {},
   "outputs": [
    {
     "name": "stdout",
     "output_type": "stream",
     "text": [
      "9\n"
     ]
    }
   ],
   "source": [
    "def my_len(words):\n",
    "    counti=0\n",
    "    for i in words:\n",
    "        counti+=1\n",
    "    return(counti)\n",
    "print( my_len('三根皮带，四斤大豆'))"
   ]
  },
  {
   "cell_type": "code",
   "execution_count": 9,
   "metadata": {},
   "outputs": [
    {
     "name": "stdout",
     "output_type": "stream",
     "text": [
      "{'Google': 6, 'Runoob': 6, 'Taobao': 6}\n"
     ]
    }
   ],
   "source": [
    "listdemo = ['Google','Runoob', 'Taobao']\n",
    "dicdemo={key:len(key) for key in listdemo}\n",
    "print(dicdemo)"
   ]
  },
  {
   "cell_type": "code",
   "execution_count": 11,
   "metadata": {},
   "outputs": [
    {
     "name": "stdout",
     "output_type": "stream",
     "text": [
      "{23: 529, 56: 3136, 88: 7744}\n"
     ]
    }
   ],
   "source": [
    "\n",
    "dict={num:num**2 for num in [23,56,88]}\n",
    "print(dict)"
   ]
  },
  {
   "cell_type": "code",
   "execution_count": 21,
   "metadata": {},
   "outputs": [],
   "source": [
    "rent = 3000\n",
    "\n",
    "def cost():\n",
    "    \n",
    "    utilities = int(input('请输入本月的水电费用'))\n",
    "    food_cost = int(input('请输入本月的食材费用'))\n",
    "    variable_cost = utilities + food_cost\n",
    "    print('本月的变动成本是' + str(variable_cost))\n",
    "    return variable_cost\n",
    "\n",
    "def sum_cost():\n",
    "    sum = rent + cost()\n",
    "    print('本月的总成本是' + str(sum))"
   ]
  },
  {
   "cell_type": "code",
   "execution_count": 27,
   "metadata": {},
   "outputs": [
    {
     "name": "stdout",
     "output_type": "stream",
     "text": [
      "dacong 来了14个月，获得奖金2520\n"
     ]
    }
   ],
   "source": [
    "def wt(month):\n",
    "    if month<6:\n",
    "        bonus=500\n",
    "    elif 6<month<12:\n",
    "        bonus=(120*month)\n",
    "    else:\n",
    "        bonus=(180*month)\n",
    "    return(bonus)       \n",
    "def aword():\n",
    "    staff=input('请输入您的名字：')\n",
    "    month=int(input('请问您一共入职了多少月份：'))\n",
    "    print(f'{staff}来了{month}个月，获得奖金{wt(month)}')\n",
    "aword()\n"
   ]
  },
  {
   "cell_type": "code",
   "execution_count": 77,
   "metadata": {},
   "outputs": [
    {
     "data": {
      "text/plain": [
       "(0, 1)"
      ]
     },
     "execution_count": 77,
     "metadata": {},
     "output_type": "execute_result"
    }
   ],
   "source": [
    "def f(target, nums):\n",
    "    for i, num1 in enumerate(nums):\n",
    "        for j, num2 in enumerate(nums[i+1:], start=i+1):\n",
    "            if num1 + num2 == target:\n",
    "                return i, j\n",
    "    return None\n",
    "    \n",
    "result = f(target=6, nums=[3,3])\n",
    "\n",
    "if result is not None:\n",
    "    print(result)\n",
    "else:\n",
    "    print(\"未找到符合条件的元素对\")"
   ]
  },
  {
   "cell_type": "code",
   "execution_count": 84,
   "metadata": {},
   "outputs": [
    {
     "data": {
      "text/plain": [
       "(1, 4)"
      ]
     },
     "execution_count": 84,
     "metadata": {},
     "output_type": "execute_result"
    }
   ],
   "source": [
    "def f(target, nums):\n",
    "    for i, num1 in enumerate(nums):\n",
    "        for j, num2 in enumerate(nums[i+1:], start=i+1):\n",
    "            if num1 + num2 == target:\n",
    "                return i, j\n",
    "    return None\n",
    "    \n",
    "f(target=17, nums=[3,4,6,8,13])"
   ]
  },
  {
   "cell_type": "code",
   "execution_count": 74,
   "metadata": {},
   "outputs": [
    {
     "ename": "TypeError",
     "evalue": "'int' object is not iterable",
     "output_type": "error",
     "traceback": [
      "\u001b[1;31m---------------------------------------------------------------------------\u001b[0m",
      "\u001b[1;31mTypeError\u001b[0m                                 Traceback (most recent call last)",
      "\u001b[1;32m~\\AppData\\Local\\Temp\\ipykernel_11312\\2797794663.py\u001b[0m in \u001b[0;36m<module>\u001b[1;34m\u001b[0m\n\u001b[0;32m      5\u001b[0m                 \u001b[1;32mreturn\u001b[0m\u001b[1;33m(\u001b[0m\u001b[0mi\u001b[0m\u001b[1;33m,\u001b[0m\u001b[0mj\u001b[0m\u001b[1;33m)\u001b[0m\u001b[1;33m\u001b[0m\u001b[1;33m\u001b[0m\u001b[0m\n\u001b[0;32m      6\u001b[0m \u001b[1;33m\u001b[0m\u001b[0m\n\u001b[1;32m----> 7\u001b[1;33m \u001b[0mf\u001b[0m\u001b[1;33m(\u001b[0m\u001b[0mtarget\u001b[0m\u001b[1;33m=\u001b[0m\u001b[1;36m6\u001b[0m\u001b[1;33m,\u001b[0m\u001b[0mnums\u001b[0m\u001b[1;33m=\u001b[0m\u001b[1;33m[\u001b[0m\u001b[1;36m3\u001b[0m\u001b[1;33m,\u001b[0m\u001b[1;36m3\u001b[0m\u001b[1;33m]\u001b[0m\u001b[1;33m)\u001b[0m\u001b[1;33m\u001b[0m\u001b[1;33m\u001b[0m\u001b[0m\n\u001b[0m",
      "\u001b[1;32m~\\AppData\\Local\\Temp\\ipykernel_11312\\2797794663.py\u001b[0m in \u001b[0;36mf\u001b[1;34m(target, nums)\u001b[0m\n\u001b[0;32m      1\u001b[0m \u001b[1;32mdef\u001b[0m \u001b[0mf\u001b[0m\u001b[1;33m(\u001b[0m\u001b[0mtarget\u001b[0m\u001b[1;33m,\u001b[0m\u001b[0mnums\u001b[0m\u001b[1;33m)\u001b[0m\u001b[1;33m:\u001b[0m\u001b[1;33m\u001b[0m\u001b[1;33m\u001b[0m\u001b[0m\n\u001b[0;32m      2\u001b[0m     \u001b[1;32mfor\u001b[0m \u001b[0mi\u001b[0m\u001b[1;33m,\u001b[0m\u001b[0mnum1\u001b[0m \u001b[1;32min\u001b[0m \u001b[0menumerate\u001b[0m\u001b[1;33m(\u001b[0m\u001b[0mnums\u001b[0m\u001b[1;33m)\u001b[0m \u001b[1;33m:\u001b[0m\u001b[1;33m\u001b[0m\u001b[1;33m\u001b[0m\u001b[0m\n\u001b[1;32m----> 3\u001b[1;33m         \u001b[1;32mfor\u001b[0m \u001b[0mj\u001b[0m\u001b[1;33m,\u001b[0m\u001b[0mnum2\u001b[0m \u001b[1;32min\u001b[0m \u001b[0menumerate\u001b[0m\u001b[1;33m(\u001b[0m\u001b[0mnums\u001b[0m\u001b[1;33m[\u001b[0m\u001b[0mi\u001b[0m\u001b[1;33m+\u001b[0m\u001b[1;36m1\u001b[0m\u001b[1;33m]\u001b[0m\u001b[1;33m,\u001b[0m\u001b[0mstart\u001b[0m\u001b[1;33m=\u001b[0m\u001b[0mi\u001b[0m\u001b[1;33m+\u001b[0m\u001b[1;36m1\u001b[0m\u001b[1;33m)\u001b[0m \u001b[1;33m:\u001b[0m\u001b[1;33m\u001b[0m\u001b[1;33m\u001b[0m\u001b[0m\n\u001b[0m\u001b[0;32m      4\u001b[0m             \u001b[1;32mif\u001b[0m \u001b[0mnum1\u001b[0m\u001b[1;33m+\u001b[0m\u001b[0mnum2\u001b[0m\u001b[1;33m==\u001b[0m\u001b[0mtarget\u001b[0m\u001b[1;33m:\u001b[0m\u001b[1;33m\u001b[0m\u001b[1;33m\u001b[0m\u001b[0m\n\u001b[0;32m      5\u001b[0m                 \u001b[1;32mreturn\u001b[0m\u001b[1;33m(\u001b[0m\u001b[0mi\u001b[0m\u001b[1;33m,\u001b[0m\u001b[0mj\u001b[0m\u001b[1;33m)\u001b[0m\u001b[1;33m\u001b[0m\u001b[1;33m\u001b[0m\u001b[0m\n",
      "\u001b[1;31mTypeError\u001b[0m: 'int' object is not iterable"
     ]
    }
   ],
   "source": [
    "def f(target,nums):\n",
    "    for i,num1 in enumerate(nums) :\n",
    "        for j,num2 in enumerate(nums[i+1],start=i+1) :\n",
    "            if num1+num2==target:\n",
    "                return(i,j)\n",
    "                \n",
    "f(target=6,nums=[3,3])"
   ]
  },
  {
   "cell_type": "code",
   "execution_count": 17,
   "metadata": {},
   "outputs": [
    {
     "name": "stdout",
     "output_type": "stream",
     "text": [
      "本月的利润增长率为：22.249663224068254%\n"
     ]
    }
   ],
   "source": [
    "def div(num1,num2):\n",
    "    growth=(num1-num2)/num2\n",
    "    percent=str(growth*100)+'%'\n",
    "    return(percent)\n",
    "def warning():\n",
    "    print('你确定上个月没有利润吗？')\n",
    "def main():\n",
    "    while True:\n",
    "        num1=float(input('请输入本月的利润'))\n",
    "        num2=float(input('请输入上个月的利润'))\n",
    "        if num2==0:\n",
    "            warning()\n",
    "        else:\n",
    "            print('本月的利润增长率为：'+div(num1,num2))\n",
    "            break\n",
    "main()"
   ]
  }
 ],
 "metadata": {
  "kernelspec": {
   "display_name": "base",
   "language": "python",
   "name": "python3"
  },
  "language_info": {
   "codemirror_mode": {
    "name": "ipython",
    "version": 3
   },
   "file_extension": ".py",
   "mimetype": "text/x-python",
   "name": "python",
   "nbconvert_exporter": "python",
   "pygments_lexer": "ipython3",
   "version": "3.9.13"
  },
  "orig_nbformat": 4
 },
 "nbformat": 4,
 "nbformat_minor": 2
}
