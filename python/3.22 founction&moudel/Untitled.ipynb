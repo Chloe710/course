{
 "cells": [
  {
   "cell_type": "code",
   "execution_count": null,
   "id": "1d442eb5",
   "metadata": {},
   "outputs": [],
   "source": []
  },
  {
   "cell_type": "code",
   "execution_count": 2,
   "id": "6ec82449",
   "metadata": {},
   "outputs": [
    {
     "name": "stdout",
     "output_type": "stream",
     "text": [
      "gougou 小屁孩\n",
      "gougou 屁孩\n",
      "gougou 屁孩\n",
      "gougou 老屁孩\n"
     ]
    }
   ],
   "source": [
    "# 自定义函数\n",
    "# def q(n1,n2):\n",
    "#     return n1+n2\n",
    "#\n",
    "# a=float(input('请'))\n",
    "# b=float(input('请另'))\n",
    "# c=q(a,b)\n",
    "# # print(f'和为{c}')\n",
    "#\n",
    "def greeting(na,age):\n",
    "    if age<3:\n",
    "        a= print(na,'小屁孩')\n",
    "        return(a)\n",
    "    elif 3<age<18:\n",
    "        a= print(na,'没长开的小屁孩')\n",
    "        return(a)\n",
    "    elif 18<age<60:\n",
    "        a= print(na,'屁孩')\n",
    "        return(a)\n",
    "    else:\n",
    "        a= print(na,'老屁孩')\n",
    "        return(a)\n",
    "\n",
    "greeting('gougou',2)\n",
    "greeting('gougou',22)\n",
    "greeting('gougou',50)\n",
    "greeting('gougou',100)\n",
    "\n",
    "# def abc(a,*args):\n",
    "#         # print(a)\n",
    "#         # print(args)\n",
    "#         for i in args:\n",
    "#             print(i)\n",
    "# abc('df',6,7,90)\n",
    "# abc('we',22,43,80)\n",
    "# abc('fe',66,27,40)\n",
    "# abc('se',66,17,945)\n",
    "\n",
    "#\n",
    "# def abc(a, **args):\n",
    "#     # print(a)\n",
    "#     # print(args)\n",
    "#     for key,value in args.items():\n",
    "#         print(key,value)\n",
    "#\n",
    "# abc('df', f=6, i=7, l=90,u=99)\n",
    "# abc('we', r=22, p=43, m=80)\n",
    "# abc('fe', q=66, e=27, g=40)\n",
    "# abc('se', x=66, v=17, w=945)\n",
    "#\n",
    "# def  get_annual_leave(years):\n",
    "#     if int(years)<5:\n",
    "#         days=1\n",
    "#     elif 5<int(years)<10:\n",
    "#         days=5\n",
    "#     else:\n",
    "#         days=7\n",
    "#     return days\n",
    "#\n",
    "# get_annual_leave(years)\n",
    "\n",
    "# def yunsuan(a,b):\n",
    "#     shang=a//b\n",
    "#     yushu=a%b\n",
    "#     return shang,yushu\n",
    "# result=yunsuan(5,2)# 赋值并调用,函数内的一个形参就是一把锁，\n",
    "#                     # 一个实参就是一个钥匙，用的时候要给钥匙进行赋值\n",
    "# result=yunsuan(7,8)\n",
    "# print(result)\n",
    "# # 写出每个月的天数\n",
    "# def nianfen(year,month):\n",
    "#     if month in [1,3,5,7,8,10,12]:\n",
    "#         days=31\n",
    "#     elif month in [4,6,9,11]:\n",
    "#         days=30\n",
    "#     elif month == 2 and year % 4 == 0 and year % 400 == 0 or year % 100 != 0:\n",
    "#         days=29\n",
    "#     else:\n",
    "#         days=28\n",
    "#     return days\n",
    "#\n",
    "#\n",
    "# year=int(input('请输入任意年份'))\n",
    "# month=int(input('请输入任意月份'))\n",
    "# days= nianfen(year,month)\n",
    "# print(f'{year}年{month}月有{days}天')\n",
    "\n",
    "\n",
    "# day=0\n",
    "# year=int(input('请输入任意年份'))\n",
    "# month=int(input('请输入任意月份'))\n",
    "# if month in [1,3,5,7,8,10,12]:\n",
    "#     print(f'{month}月有31天。')\n",
    "# elif month in [4,6,9,11]:\n",
    "#     print(f'{month}月有30天')\n",
    "# elif month==2 and year%4==0 and  year%400==0 or year%100!=0:\n",
    "#     print(f'{month}月有29天')\n",
    "# else:\n",
    "#     print(f'{year}年{month}月有28天')\n",
    "import random\n",
    "\n",
    "# red=list(random.randint(1,33))\n",
    "# for i in range(0,6):\n",
    "#     if red[i] not in red:\n",
    "#         red.append(i)\n",
    "# blue=random.randint(1,16)\n",
    "# print(red)\n",
    "# print(blue)"
   ]
  },
  {
   "cell_type": "code",
   "execution_count": 3,
   "id": "8b041216",
   "metadata": {},
   "outputs": [
    {
     "data": {
      "text/plain": [
       "999"
      ]
     },
     "execution_count": 3,
     "metadata": {},
     "output_type": "execute_result"
    }
   ],
   "source": [
    "def mode(a,b):\n",
    "    return(a+b)\n",
    "mode(500,499)\n"
   ]
  },
  {
   "cell_type": "code",
   "execution_count": null,
   "id": "b485c780",
   "metadata": {},
   "outputs": [],
   "source": []
  },
  {
   "cell_type": "code",
   "execution_count": null,
   "id": "b4c708d2",
   "metadata": {},
   "outputs": [],
   "source": []
  }
 ],
 "metadata": {
  "kernelspec": {
   "display_name": "Python 3 (ipykernel)",
   "language": "python",
   "name": "python3"
  },
  "language_info": {
   "codemirror_mode": {
    "name": "ipython",
    "version": 3
   },
   "file_extension": ".py",
   "mimetype": "text/x-python",
   "name": "python",
   "nbconvert_exporter": "python",
   "pygments_lexer": "ipython3",
   "version": "3.9.13"
  }
 },
 "nbformat": 4,
 "nbformat_minor": 5
}
